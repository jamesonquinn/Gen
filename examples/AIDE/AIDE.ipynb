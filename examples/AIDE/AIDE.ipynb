{
 "cells": [
  {
   "cell_type": "code",
   "execution_count": 18,
   "metadata": {},
   "outputs": [],
   "source": [
    "# Load packages; may take a few seconds to run.\n",
    "using Gen\n",
    "using PyPlot\n",
    "using StatsBase\n",
    "using Statistics\n",
    "import Random"
   ]
  },
  {
   "cell_type": "code",
   "execution_count": 4,
   "metadata": {},
   "outputs": [],
   "source": [
    "second(x) = x[2] #used to pull logweight from tuple of (trace, logweight)\n",
    ";"
   ]
  },
  {
   "cell_type": "markdown",
   "metadata": {},
   "source": [
    "## Text to introduce AIDE here?"
   ]
  },
  {
   "cell_type": "code",
   "execution_count": 5,
   "metadata": {
    "lines_to_next_cell": 2
   },
   "outputs": [],
   "source": [
    "# Compare the distribution of return values of two generative functions, using AIDE\n",
    "# Returns an unbiased estimate of an upper bound on the symmetrized KL divergence\n",
    "#    between f and g.\n",
    "function AIDE_compare(\n",
    "        f, g, #generative functions to compare. \n",
    "            #Both should return the (comparable) \"output\" value of interest.\n",
    "        \n",
    "        input, #any input to generative functions; must be same for both of them.\n",
    "        \n",
    "        ret_to_f, ret_to_g, #Functions. Input: return value (from f or g)\n",
    "                                #Output: constraints for one generative, \n",
    "                                #sufficient to guarantee same return value\n",
    "        \n",
    "        Nf, Ng, #Number of traces to draw from each generative\n",
    "        Mf, Mg  #Number of runs of each to use to estimate a given generative's score of a trace\n",
    "    )\n",
    "    cm = choicemap()\n",
    "    f_vals = [Gen.get_retval(generate(f, input, cm)[1]) for i in 1:Nf]\n",
    "    g_vals = [Gen.get_retval(generate(g, input, cm)[1]) for i in 1:Ng]\n",
    "    \n",
    "    f_scores_of_g = [mean([second(generate(f, input, ret_to_f(v))) for j in 1:Mf]) \n",
    "                        for v in g_vals] #One average log density from f for each draw of g\n",
    "    g_scores_of_f = [mean([second(generate(g, input, ret_to_g(v))) for j in 1:Mf])\n",
    "                        for v in f_vals] #(as above)  Note that we're ignoring stdev of the...\n",
    "    f_scores_of_f = [mean([second(generate(f, input, ret_to_f(v))) for j in 1:Mf]) \n",
    "                        for v in f_vals] #(as above)  ...score estimation process, because...\n",
    "    g_scores_of_g = [mean([second(generate(g, input, ret_to_g(v))) for j in 1:Mf]) \n",
    "                        for v in g_vals] #(as above)  ...it's more hassle than it's worth.\n",
    "    \n",
    "    KLfg = mean(f_scores_of_f) - mean(g_scores_of_f)\n",
    "    KLgf = mean(g_scores_of_g) - mean(f_scores_of_g)\n",
    "    \n",
    "    symse2 = (var(f_scores_of_f .- g_scores_of_f; corrected=true)/Nf +  #squared standard error\n",
    "                var(g_scores_of_g .- f_scores_of_g; corrected=true)/Ng) #(using paired samples)\n",
    "    \n",
    "    (KLfg + KLgf, sqrt(symse2)) #tuple of (symmetrized KL hat, standard error thereof)\n",
    "end\n",
    ";"
   ]
  },
  {
   "cell_type": "markdown",
   "metadata": {},
   "source": [
    "## \"Coinflip\" example\n",
    "\n",
    "Say we're inferring the parameter of a Bernoulli distribution — the \"weightedness\" of a \"coinflip\" — based on a certain number of observations of the outcome. To do Bayesian inference, we need a prior on the parameter $p$; let's say it's distributed uniformly from 0 to 1. Conveniently, the uniform distribution is a special case of the beta distribution — $Beta(1,1)$ — so we can use the following generative model:"
   ]
  },
  {
   "cell_type": "code",
   "execution_count": 11,
   "metadata": {},
   "outputs": [],
   "source": [
    "@gen function binom_prior(α, β)\n",
    "    p ~ beta(α, β)\n",
    "    p\n",
    "end\n",
    "\n",
    "@gen function basic_binom(n, α, β)\n",
    "    p = @trace(binom_prior(α, β))\n",
    "    h ~ binom(n, p)\n",
    "    h\n",
    "end\n",
    ";"
   ]
  },
  {
   "cell_type": "markdown",
   "metadata": {},
   "source": [
    "To do inference over this model, we might use importance sampling. In order to be able to use AIDE to evaluate the quality of that inference, we need the inference procedure itself to be a generative function (that returns one sample from the approximate posterior), as follows:"
   ]
  },
  {
   "cell_type": "code",
   "execution_count": 12,
   "metadata": {},
   "outputs": [],
   "source": [
    "function importance_cond_binom_for(samps) #A factory which constructs an \n",
    "                #inference function that uses a given number of samples\n",
    "    @gen function i_c_b(h, #number of \"heads\" observed\n",
    "            n, #number of \"coinflips\"\n",
    "            α = 1., β = 1.)\n",
    "        constraint = choicemap((:h, h))\n",
    "        logweights = Vector{Float64}(undef, samps)\n",
    "        ps = Vector{Float64}(undef, samps)\n",
    "        for s in 1:samps\n",
    "            p = @trace(binom_prior(α, β),:data => s)\n",
    "            constraint[:p] = p\n",
    "            ps[s] = p\n",
    "            (_, logweights[s]) = generate(basic_binom, (n, α, β), constraint)\n",
    "                    #in this simple case, this is just a more-complicated way of calling\n",
    "                        #Distributions.Binomial(...).logpdf. However, this pattern generalizes\n",
    "                        #better to inference over arbitrary generative functions.\n",
    "        end\n",
    "        logweights .-= max(logweights...)\n",
    "        weights = exp.(logweights)\n",
    "        weights ./= sum(weights)\n",
    "        whichOne ~ categorical(weights)\n",
    "        p = ps[whichOne]\n",
    "        p\n",
    "    end\n",
    "end\n",
    ";"
   ]
  },
  {
   "cell_type": "markdown",
   "metadata": {},
   "source": [
    "Let's test that out for 0 heads out of 10 coinflips, using just 5 samples from the prior. Note that we'd intuitively expect most of the posterior to be below 0.1, but with few samples to do importance sampling over, inference appears poor:"
   ]
  },
  {
   "cell_type": "code",
   "execution_count": 24,
   "metadata": {},
   "outputs": [
    {
     "data": {
      "text/plain": [
       "0.20308731980110925"
      ]
     },
     "execution_count": 24,
     "metadata": {},
     "output_type": "execute_result"
    }
   ],
   "source": [
    "Random.seed!(0)\n",
    "\n",
    "importance_cond_binom_for(5)(0,10)"
   ]
  },
  {
   "cell_type": "markdown",
   "metadata": {},
   "source": [
    "Hmm... let's graph the output for 7 heads out of 10, using different numbers of samples for importance sampling."
   ]
  },
  {
   "cell_type": "code",
   "execution_count": 36,
   "metadata": {},
   "outputs": [
    {
     "data": {
      "image/png": "[encoded data removed]",
      "text/plain": [
       "Figure(PyObject <Figure size 640x480 with 1 Axes>)"
      ]
     },
     "metadata": {},
     "output_type": "display_data"
    }
   ],
   "source": [
    "hist([importance_cond_binom_for(1)(7,10) for i in 1:10000], color=\"b\", alpha =.5)\n",
    "hist([importance_cond_binom_for(3)(7,10) for i in 1:10000], color=\"g\", alpha =.5)\n",
    "hist([importance_cond_binom_for(20)(7,10) for i in 1:10000], color=\"r\", alpha =.5)\n",
    ";"
   ]
  },
  {
   "cell_type": "markdown",
   "metadata": {},
   "source": [
    "We also need a gold standard to compare the above inference against. Luckily, because beta and binomial are conjugate distributions, there's an analytic solution:"
   ]
  },
  {
   "cell_type": "code",
   "execution_count": 25,
   "metadata": {},
   "outputs": [],
   "source": [
    "@gen function analytic_cond_binom(h, n, α = 1., β = 1.)\n",
    "    p ~ beta(α + h, β + n - h)\n",
    "    p\n",
    "end\n",
    ";"
   ]
  },
  {
   "cell_type": "markdown",
   "metadata": {},
   "source": [
    "Finally, we need functions to convert the output (of either generative inference function) to a constraint on each of those functions that's sufficient to guarantee that output:"
   ]
  },
  {
   "cell_type": "code",
   "execution_count": 14,
   "metadata": {},
   "outputs": [],
   "source": [
    "function ret_to_importance_constraint(p)\n",
    "    constraint = choicemap((:whichOne, 1))\n",
    "    constraint[:data => 1 => :p] = p\n",
    "    constraint\n",
    "end\n",
    "\n",
    "function ret_to_analytic_constraint(p)\n",
    "    choicemap((:p, p))\n",
    "end\n",
    ";"
   ]
  },
  {
   "cell_type": "markdown",
   "metadata": {},
   "source": [
    "OK, let's put it all together. Using only a very small number of samples from each generative inference function, let's quickly compare how our estimated KL bound improves as we increase the number of prior samples for the importance sampling method:"
   ]
  },
  {
   "cell_type": "code",
   "execution_count": 26,
   "metadata": {},
   "outputs": [
    {
     "data": {
      "text/plain": [
       "5-element Array{Tuple{Float64,Float64},1}:\n",
       " (2.181169155644955, 1.3884452559069211)\n",
       " (0.735265026766756, 0.9473137936958114)\n",
       " (0.08342677373663299, 0.23139900531179888)\n",
       " (-0.10586311583214392, 0.10424573505094893)\n",
       " (0.07388414969032553, 0.17965617147700239)"
      ]
     },
     "execution_count": 26,
     "metadata": {},
     "output_type": "execute_result"
    }
   ],
   "source": [
    "Random.seed!(4)\n",
    "\n",
    "(h,n) = (7,10)\n",
    "\n",
    "ns = 5\n",
    "ms = 5\n",
    "\n",
    "[AIDE_compare(importance_cond_binom_for(i), analytic_cond_binom, #generative functions to compare. Should return the important value.\n",
    "        (h,n), #any input to generative functions; must be same for both\n",
    "        ret_to_importance_constraint, ret_to_analytic_constraint, #take a return value from either generative, and produce constraints for one generative\n",
    "        ns, ns, #Number of traces to draw from each\n",
    "        ms, ms  #Number of runs of each to use to estimate score\n",
    "    ) for i in 1:5]"
   ]
  },
  {
   "cell_type": "markdown",
   "metadata": {},
   "source": [
    "Note that while AIDE's estimated KL (the first element of the tuples) is in expectation an upper bound on KL and thus should be above 0, it's still a stochastic algorithm, and so below zero is possible, as seen above.\n",
    "\n",
    "Now we've seen that it works, let's do a slightly more computationally-intensive run and turn it into a graph:"
   ]
  },
  {
   "cell_type": "code",
   "execution_count": null,
   "metadata": {
    "lines_to_next_cell": 0
   },
   "outputs": [],
   "source": [
    "ns = 400\n",
    "ms = 30\n",
    "\n",
    "results = [AIDE_compare(importance_cond_binom_for(i), analytic_cond_binom, #generative functions to compare. Should return the important value.\n",
    "        (h,n), #any input to generative functions; must be same for both\n",
    "        ret_to_importance_constraint, ret_to_analytic_constraint, #take a return value from either generative, and produce constraints for one generative\n",
    "        ns, ns, #Number of traces to draw from each\n",
    "        ms, ms  #Number of runs of each to use to estimate score\n",
    "    ) for i in 1:20]"
   ]
  },
  {
   "cell_type": "code",
   "execution_count": null,
   "metadata": {},
   "outputs": [],
   "source": []
  },
  {
   "cell_type": "code",
   "execution_count": null,
   "metadata": {
    "lines_to_next_cell": 2
   },
   "outputs": [],
   "source": []
  }
 ],
 "metadata": {
  "jupytext": {
   "encoding": "# -*- coding: utf-8 -*-",
   "formats": "jl:light,ipynb"
  },
  "kernelspec": {
   "display_name": "Julia 1.4.0",
   "language": "julia",
   "name": "julia-1.4"
  },
  "language_info": {
   "file_extension": ".jl",
   "mimetype": "application/julia",
   "name": "julia",
   "version": "1.4.1"
  }
 },
 "nbformat": 4,
 "nbformat_minor": 4
}
