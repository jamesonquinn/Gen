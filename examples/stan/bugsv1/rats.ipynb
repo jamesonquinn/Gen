{
 "cells": [
  {
   "cell_type": "markdown",
   "metadata": {},
   "source": [
    "Load necessary libraries"
   ]
  },
  {
   "cell_type": "code",
   "execution_count": 17,
   "metadata": {
    "lines_to_next_cell": 0
   },
   "outputs": [
    {
     "data": {
      "text/plain": [
       "DistributionsBacked{Float64}(var\"#23#24\"(), Bool[1, 1], true)"
      ]
     },
     "execution_count": 17,
     "metadata": {},
     "output_type": "execute_result"
    }
   ],
   "source": [
    "using Gen\n",
    "using GenViz\n",
    "using Statistics\n",
    "include(\"DistributionsBacked.jl\")\n",
    "include(\"IterDeep.jl\")\n",
    "using PyPlot\n",
    "\n",
    "const my_inv_gamma = DistributionsBacked{Float64}((alpha, theta) -> Distributions.InverseGamma(alpha, theta), [true, true], true)"
   ]
  },
  {
   "cell_type": "markdown",
   "metadata": {},
   "source": [
    "Set up visualization server. (Careful: run only once)"
   ]
  },
  {
   "cell_type": "code",
   "execution_count": 2,
   "metadata": {},
   "outputs": [],
   "source": [
    "server = VizServer(8092);"
   ]
  },
  {
   "cell_type": "markdown",
   "metadata": {},
   "source": [
    "Space for declaring constants."
   ]
  },
  {
   "cell_type": "code",
   "execution_count": 3,
   "metadata": {},
   "outputs": [],
   "source": [
    "INV_GAMMA_PRIOR_CONSTANT = 0.1;"
   ]
  },
  {
   "cell_type": "markdown",
   "metadata": {},
   "source": [
    "Canonical Rats data, from from section 6 of Gelfand et al (1990). See http://www.openbugs.net/Examples/Rats.html"
   ]
  },
  {
   "cell_type": "code",
   "execution_count": 4,
   "metadata": {},
   "outputs": [
    {
     "data": {
      "text/plain": [
       "5-element Array{Float64,1}:\n",
       "  8.0\n",
       " 15.0\n",
       " 22.0\n",
       " 29.0\n",
       " 36.0"
      ]
     },
     "execution_count": 4,
     "metadata": {},
     "output_type": "execute_result"
    }
   ],
   "source": [
    "ys_raw = ([151, 145, 147, 155, 135, 159, 141, 159, 177, 134,\n",
    "    160, 143, 154, 171, 163, 160, 142, 156, 157, 152, 154, 139, 146,\n",
    "    157, 132, 160, 169, 157, 137, 153, 199, 199, 214, 200, 188, 210,\n",
    "    189, 201, 236, 182, 208, 188, 200, 221, 216, 207, 187, 203, 212,\n",
    "    203, 205, 190, 191, 211, 185, 207, 216, 205, 180, 200, 246, 249,\n",
    "    263, 237, 230, 252, 231, 248, 285, 220, 261, 220, 244, 270, 242,\n",
    "    248, 234, 243, 259, 246, 253, 225, 229, 250, 237, 257, 261, 248,\n",
    "    219, 244, 283, 293, 312, 272, 280, 298, 275, 297, 350, 260, 313,\n",
    "    273, 289, 326, 281, 288, 280, 283, 307, 286, 298, 267, 272, 285,\n",
    "    286, 303, 295, 289, 258, 286, 320, 354, 328, 297, 323, 331, 305,\n",
    "    338, 376, 296, 352, 314, 325, 358, 312, 324, 316, 317, 336, 321,\n",
    "    334, 302, 302, 323, 331, 345, 333, 316, 291, 324])\n",
    "ys = reshape([Float64(y) for y = ys_raw],30,5)\n",
    "xs = [8.0, 15.0, 22.0, 29.0, 36.0]"
   ]
  },
  {
   "cell_type": "markdown",
   "metadata": {},
   "source": [
    "These data are the weights of 30 rats, measured at 5 common age values in days. The model is a simple hierarchical/random effects one; a random intercept and random slope for each rat, plus an error term (presumably representing not measurement error, but just the random variation of individual growth curves)."
   ]
  },
  {
   "cell_type": "code",
   "execution_count": 5,
   "metadata": {},
   "outputs": [
    {
     "ename": "UndefVarError",
     "evalue": "UndefVarError: plot not defined",
     "output_type": "error",
     "traceback": [
      "UndefVarError: plot not defined",
      "",
      "Stacktrace:",
      " [1] top-level scope at ./In[5]:2"
     ]
    }
   ],
   "source": [
    "for i in 1:30\n",
    "    plot(xs,ys[i,:])\n",
    "end\n",
    "xlabel(\"Age (days)\")\n",
    "ylabel(\"Weight (g)\")\n",
    "title(\"Rat growth\")"
   ]
  },
  {
   "cell_type": "code",
   "execution_count": null,
   "metadata": {
    "lines_to_next_cell": 2
   },
   "outputs": [],
   "source": []
  },
  {
   "cell_type": "code",
   "execution_count": 6,
   "metadata": {},
   "outputs": [],
   "source": [
    "@gen function model_prematurely_optimized(xs::Vector,N::Int32,) #single objects across rats (the dim of size N)\n",
    "    T = length(xs)\n",
    "    xbar = mean(xs) #could be precomputed, but YKWTS about premature optimization...\n",
    "\n",
    "    mu_alpha ~ normal(0, 100)\n",
    "    mu_beta ~ normal(0, 100)\n",
    "    sigmasq_y ~ my_inv_gamma(INV_GAMMA_PRIOR_CONSTANT, INV_GAMMA_PRIOR_CONSTANT)\n",
    "    sigmasq_alpha ~ my_inv_gamma(INV_GAMMA_PRIOR_CONSTANT, INV_GAMMA_PRIOR_CONSTANT)\n",
    "    sigmasq_beta ~ my_inv_gamma(INV_GAMMA_PRIOR_CONSTANT, INV_GAMMA_PRIOR_CONSTANT)\n",
    "\n",
    "    alpha ~ normal(fill(mu_alpha,N), sqrt(sigmasq_alpha)) # vectorized\n",
    "    beta ~ normal(fill(mu_beta,N), sqrt(sigmasq_beta))  # vectorized\n",
    "    ys ~ normal([alpha[n] + beta[n] * (x[t] - xbar) for n in 1:N, t in 1:T], sqrt(sigmasq_y))\n",
    "end\n",
    ";"
   ]
  },
  {
   "cell_type": "code",
   "execution_count": 7,
   "metadata": {},
   "outputs": [],
   "source": [
    "@gen function model(xs::Vector,N::Int32,)\n",
    "    T = length(xs)\n",
    "    xbar = mean(xs) #could be precomputed, but YKWTS about premature optimization...\n",
    "\n",
    "    mu_alpha ~ normal(0, 100)\n",
    "    mu_beta ~ normal(0, 10)\n",
    "    sigmasq_y ~ my_inv_gamma(INV_GAMMA_PRIOR_CONSTANT, INV_GAMMA_PRIOR_CONSTANT)\n",
    "    sigmasq_alpha ~ my_inv_gamma(INV_GAMMA_PRIOR_CONSTANT, INV_GAMMA_PRIOR_CONSTANT)\n",
    "    sigmasq_beta ~ my_inv_gamma(INV_GAMMA_PRIOR_CONSTANT, INV_GAMMA_PRIOR_CONSTANT)\n",
    "\n",
    "    alpha = Vector{Float64}(undef,N)\n",
    "    beta = Vector{Float64}(undef,N)\n",
    "    y = Vector{Vector{Float64}}(undef,N)\n",
    "    for n in 1:N\n",
    "        alpha[n] = ({:data => n => :alpha} ~ normal(mu_alpha, sqrt(sigmasq_alpha))) # vectorized\n",
    "        beta[n] = ({:data => n => :beta} ~ normal(mu_beta, sqrt(sigmasq_beta)))  # vectorized\n",
    "        y[n] = ({:data => n => :y} ~ broadcasted_normal([alpha[n] + beta[n] * (xs[t] - xbar) for t = 1:T],\n",
    "                                            sqrt(sigmasq_y)))\n",
    "    end\n",
    "end\n",
    ";"
   ]
  },
  {
   "cell_type": "code",
   "execution_count": 8,
   "metadata": {},
   "outputs": [],
   "source": [
    "function make_constraints(ys::Array)\n",
    "    (N,T) = size(ys)\n",
    "    constraints = Gen.choicemap()\n",
    "    for n in 1:N\n",
    "        constraints[:data => n => :y] = ys[n,:]\n",
    "    end\n",
    "    constraints\n",
    "end\n",
    ";"
   ]
  },
  {
   "cell_type": "code",
   "execution_count": 9,
   "metadata": {},
   "outputs": [],
   "source": [
    "function mcmc_inference(xs, ys, num_iters, update)\n",
    "    N = size(ys)[1]\n",
    "    observations = make_constraints(ys)\n",
    "    (trace, _) = generate(model, (xs, N), observations)\n",
    "    for iter=1:num_iters\n",
    "        trace = update(trace,N,observations)\n",
    "    end\n",
    "    trace\n",
    "end\n",
    ";"
   ]
  },
  {
   "cell_type": "code",
   "execution_count": 10,
   "metadata": {
    "lines_to_next_cell": 2
   },
   "outputs": [],
   "source": [
    "function block_mh(tr,N,observations)\n",
    "    (tr, _) = mh(tr, select(:mu_alpha, :mu_beta))\n",
    "    (tr, _) = mh(tr, select(:sigmasq_alpha, :sigmasq_beta, :sigmasq_y))\n",
    "\n",
    "    for n in 1:N\n",
    "        (tr, _) = mh(tr, select(:data => n => :y,\n",
    "                                :data => n => :alpha,:data => n => :beta))\n",
    "    end\n",
    "    tr\n",
    "end\n",
    ";"
   ]
  },
  {
   "cell_type": "code",
   "execution_count": 23,
   "metadata": {},
   "outputs": [],
   "source": [
    "function simple_hmc(tr,N,observations)\n",
    "    (tr, _) = hmc(tr, Gen.complement(select(observations)))\n",
    "    tr\n",
    "end\n",
    ";"
   ]
  },
  {
   "cell_type": "code",
   "execution_count": 29,
   "metadata": {},
   "outputs": [],
   "source": [
    "tr = mcmc_inference(xs, ys, 200, block_mh)\n",
    "get_choices(tr)\n",
    ";"
   ]
  },
  {
   "cell_type": "code",
   "execution_count": 19,
   "metadata": {
    "lines_to_next_cell": 2
   },
   "outputs": [
    {
     "name": "stdout",
     "output_type": "stream",
     "text": [
      "mu_alpha: -62.08911913701273, mu_beta: -2.904699224028846, sigma_y: 10.424544392090809"
     ]
    }
   ],
   "source": [
    "print(\"mu_alpha: $(tr[:mu_alpha]), mu_beta: $(tr[:mu_beta]), sigma_y: $(sqrt(tr[:sigmasq_y]))\")"
   ]
  },
  {
   "cell_type": "code",
   "execution_count": 20,
   "metadata": {},
   "outputs": [],
   "source": [
    "\n",
    "function visualize_rats(trace,ys)\n",
    "    assmt = Gen.get_choices(trace)\n",
    "    (xs,N) = Gen.get_args(trace)\n",
    "    Dict(\"slope\" => assmt[:slope],\n",
    "        \"intercept\" => assmt[:intercept],\n",
    "        \"inlier_std\" => assmt[:noise],\n",
    "        \"y-coords\" => [assmt[:data => i => :y] for i in 1:length(xs)],\n",
    "        \"outliers\" => [assmt[:data => i => :is_outlier] for i in 1:length(xs)])\n",
    "end;"
   ]
  },
  {
   "cell_type": "code",
   "execution_count": 30,
   "metadata": {},
   "outputs": [],
   "source": [
    "tr2 = mcmc_inference(xs, ys, 200, simple_hmc)\n",
    "get_choices(tr2)\n",
    ";"
   ]
  },
  {
   "cell_type": "code",
   "execution_count": 27,
   "metadata": {},
   "outputs": [
    {
     "name": "stdout",
     "output_type": "stream",
     "text": [
      "mu_alpha: 25.733551442646895, mu_beta: -0.7245588767483507, sigma_y: 28.082571338699566"
     ]
    }
   ],
   "source": [
    "print(\"mu_alpha: $(tr2[:mu_alpha]), mu_beta: $(tr2[:mu_beta]), sigma_y: $(sqrt(tr2[:sigmasq_y]))\\n\")"
   ]
  },
  {
   "cell_type": "code",
   "execution_count": 28,
   "metadata": {},
   "outputs": [
    {
     "name": "stdout",
     "output_type": "stream",
     "text": [
      "mu_alpha: 14.267175410432042, mu_beta: 14.392528336152559, sigma_y: 4.569658902596242\n",
      "mu_alpha: -61.531685609791595, mu_beta: -4.125014033246265, sigma_y: 54.05637335084533\n"
     ]
    },
    {
     "ename": "DomainError",
     "evalue": "DomainError with -0.06038205559423504:\nlog will only return a complex result if called with a complex argument. Try log(Complex(x)).",
     "output_type": "error",
     "traceback": [
      "DomainError with -0.06038205559423504:\nlog will only return a complex result if called with a complex argument. Try log(Complex(x)).",
      "",
      "Stacktrace:",
      " [1] throw_complex_domainerror(::Symbol, ::Float64) at ./math.jl:33",
      " [2] log(::Float64) at ./special/log.jl:285",
      " [3] logpdf(::InverseGamma{Float64}, ::Float64) at /Users/chema/.julia/packages/Distributions/dTXqn/src/univariate/continuous/inversegamma.jl:93",
      " [4] logpdf(::DistributionsBacked{Float64}, ::Float64, ::Float64, ::Float64) at /Users/chema/github/Gen/examples/stan/bugsv1/DistributionsBacked.jl:12",
      " [5] traceat(::Gen.GFUpdateState, ::DistributionsBacked{Float64}, ::Tuple{Float64,Float64}, ::Symbol) at /Users/chema/.julia/packages/Gen/Odyre/src/dynamic/update.jl:55",
      " [6] ##model#410(::Gen.GFUpdateState, ::Array{Float64,1}, ::Int64) at ./In[7]:8",
      " [7] exec(::DynamicDSLFunction{Any}, ::Gen.GFUpdateState, ::Tuple{Array{Float64,1},Int64}) at /Users/chema/.julia/packages/Gen/Odyre/src/dynamic/dynamic.jl:54",
      " [8] update(::Gen.DynamicDSLTrace{DynamicDSLFunction{Any}}, ::Tuple{Array{Float64,1},Int64}, ::Tuple{NoChange,NoChange}, ::DynamicChoiceMap) at /Users/chema/.julia/packages/Gen/Odyre/src/dynamic/update.jl:186",
      " [9] hmc(::Gen.DynamicDSLTrace{DynamicDSLFunction{Any}}, ::ComplementSelection; L::Int64, eps::Float64, check::Bool, observations::EmptyChoiceMap) at /Users/chema/.julia/packages/Gen/Odyre/src/inference/hmc.jl:50",
      " [10] hmc(::Gen.DynamicDSLTrace{DynamicDSLFunction{Any}}, ::ComplementSelection) at /Users/chema/.julia/packages/Gen/Odyre/src/inference/hmc.jl:28",
      " [11] simple_hmc(::Gen.DynamicDSLTrace{DynamicDSLFunction{Any}}, ::Int64, ::DynamicChoiceMap) at ./In[23]:2",
      " [12] mcmc_inference(::Array{Float64,1}, ::Array{Float64,2}, ::Int64, ::typeof(simple_hmc)) at ./In[9]:6",
      " [13] top-level scope at ./In[28]:2"
     ]
    }
   ],
   "source": [
    "for i = 1:5\n",
    "    tr2 = mcmc_inference(xs, ys, 300, simple_hmc)\n",
    "    print(\"mu_alpha: $(tr2[:mu_alpha]), mu_beta: $(tr2[:mu_beta]), sigma_y: $(sqrt(tr2[:sigmasq_y]))\\n\")\n",
    "end\n",
    "    "
   ]
  },
  {
   "cell_type": "code",
   "execution_count": null,
   "metadata": {},
   "outputs": [],
   "source": []
  }
 ],
 "metadata": {
  "jupytext": {
   "cell_metadata_filter": "-all",
   "formats": "jl:light,ipynb",
   "notebook_metadata_filter": "-all"
  },
  "kernelspec": {
   "display_name": "Julia 1.4.0",
   "language": "julia",
   "name": "julia-1.4"
  },
  "language_info": {
   "file_extension": ".jl",
   "mimetype": "application/julia",
   "name": "julia",
   "version": "1.4.1"
  }
 },
 "nbformat": 4,
 "nbformat_minor": 4
}
