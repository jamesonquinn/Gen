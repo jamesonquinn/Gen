{
 "cells": [
  {
   "cell_type": "code",
   "execution_count": null,
   "metadata": {
    "lines_to_next_cell": 0
   },
   "outputs": [],
   "source": [
    "using AdvancedHMC, Distributions, ForwardDiff\n",
    "\n",
    "# Choose parameter dimensionality and initial parameter value\n",
    "D = 10; initial_θ = rand(D)\n",
    "\n",
    "# Define the target distribution\n",
    "ℓπ(θ) = logpdf(MvNormal(zeros(D), ones(D)), θ)\n",
    "\n",
    "# Set the number of samples to draw and warmup iterations\n",
    "n_samples, n_adapts = 2_000, 1_000\n",
    "\n",
    "# Define a Hamiltonian system\n",
    "metric = DiagEuclideanMetric(D)\n",
    "hamiltonian = Hamiltonian(metric, ℓπ, ForwardDiff)\n",
    "\n",
    "# Define a leapfrog solver, with initial step size chosen heuristically\n",
    "initial_ϵ = find_good_stepsize(hamiltonian, initial_θ)\n",
    "integrator = Leapfrog(initial_ϵ)\n",
    "\n",
    "# Define an HMC sampler, with the following components\n",
    "#   - multinomial sampling scheme,\n",
    "#   - generalised No-U-Turn criteria, and\n",
    "#   - windowed adaption for step-size and diagonal mass matrix\n",
    "proposal = NUTS{MultinomialTS, GeneralisedNoUTurn}(integrator)\n",
    "adaptor = StanHMCAdaptor(MassMatrixAdaptor(metric), StepSizeAdaptor(0.8, integrator))\n",
    "\n",
    "# Run the sampler to draw samples from the specified Gaussian, where\n",
    "#   - `samples` will store the samples\n",
    "#   - `stats` will store diagnostic statistics for each sample\n",
    "samples, stats = sample(hamiltonian, proposal, initial_θ, n_samples, adaptor, n_adapts; progress=true)"
   ]
  },
  {
   "cell_type": "code",
   "execution_count": 41,
   "metadata": {},
   "outputs": [
    {
     "name": "stdout",
     "output_type": "stream",
     "text": [
      "Any[3.0, log, exp]\n",
      "false\n",
      "DynamicChoiceMap(Dict{Any,Any}(:a => exp), Dict{Any,Any}())\n"
     ]
    },
    {
     "ename": "KeyError",
     "evalue": "KeyError: key :c not found",
     "output_type": "error",
     "traceback": [
      "KeyError: key :c not found",
      "",
      "Stacktrace:",
      " [1] get_submap(::DynamicChoiceMap, ::Symbol) at /Users/chema/.julia/packages/Gen/Odyre/src/choice_map.jl:684",
      " [2] top-level scope at In[41]:12"
     ]
    }
   ],
   "source": [
    "using Gen\n",
    "\n",
    "s = select(:a)\n",
    "sn = complement(s)\n",
    "cm = Gen.choicemap()\n",
    "cm[:b] = 3.\n",
    "cm[:c] = log\n",
    "cm[:d => :a] = exp\n",
    "println(to_array(cm, Any))\n",
    "println(has_value(cm,:d))\n",
    "println(get_submap(cm,:d))\n",
    "println(get_submap(cm,:c))"
   ]
  },
  {
   "cell_type": "code",
   "execution_count": null,
   "metadata": {
    "lines_to_next_cell": 2
   },
   "outputs": [],
   "source": [
    "a = [3]\n",
    "\n",
    "function add!(x)\n",
    "    x[1] += 1\n",
    "end\n",
    "\n",
    "add!(a)\n",
    "\n",
    "a"
   ]
  },
  {
   "cell_type": "code",
   "execution_count": null,
   "metadata": {},
   "outputs": [],
   "source": [
    "Gen.choicemap"
   ]
  },
  {
   "cell_type": "code",
   "execution_count": null,
   "metadata": {},
   "outputs": [],
   "source": [
    "Gen.ChoiceMap"
   ]
  },
  {
   "cell_type": "code",
   "execution_count": null,
   "metadata": {
    "lines_to_next_cell": 0
   },
   "outputs": [],
   "source": [
    "using PyPlot\n",
    "using PyCall\n",
    "using Base64\n",
    "@pyimport matplotlib.animation as anim\n",
    "\n",
    "#Construct Figure and Plot Data\n",
    "fig = figure(\"MyFigure\",figsize=(5,5))\n",
    "ax = PyPlot.axes(xlim = (0,10),ylim=(0,10))\n",
    "\n",
    "\n",
    "println(\"hi\")\n",
    "\n",
    "\n",
    "global line1 = ax[:plot]([],[],\"r-\")[1]\n",
    "global line2 = ax[:plot]([],[],\"g-\")[1]\n",
    "global line3 = ax[:plot]([],[],\"b-\")[1]\n",
    "\n",
    "# Define the init function, which draws the first frame (empty, in this case)\n",
    "function init()\n",
    "    global line1\n",
    "    global line2\n",
    "    global line3\n",
    "    line1[:set_data]([],[])\n",
    "    line2[:set_data]([],[])\n",
    "    line3[:set_data]([],[])\n",
    "    return (line1,line2,line3,Union{})  # Union{} is the new word for None\n",
    "end\n",
    "\n",
    "# Animate draws the i-th frame, where i starts at i=0 as in Python.\n",
    "function animate(i)\n",
    "    global line1\n",
    "    global line2\n",
    "    global line3\n",
    "    x = (0:i)/10.0\n",
    "    line1[:set_data](x,x)\n",
    "    line2[:set_data](1 .+ x,x)\n",
    "    line3[:set_data](2 .+ x,x)\n",
    "    return (line1,line2,line3,Union{})\n",
    "end\n",
    "\n",
    "# Create the animation object by calling the Python function FuncAnimaton\n",
    "myanim = anim.FuncAnimation(fig, animate, init_func=init, frames=100, interval=20)\n",
    "\n",
    "# Convert it to an MP4 movie file and saved on disk in this format.\n",
    "#myanim[:save](\"3Lines.mp4\", bitrate=-1, extra_args=[\"-vcodec\", \"libx264\", \"-pix_fmt\", \"yuv420p\"])\n",
    "myanim[:save](\"test1.mp4\", bitrate=-1, extra_args=[\"-vcodec\", \"libx264\", \"-pix_fmt\", \"yuv420p\"])\n",
    "    \n",
    "# Function for creating an embedded video given a filename\n",
    "function html_video(filename)\n",
    "    open(filename) do f\n",
    "        base64_video = Base64.base64encode(f)\n",
    "        \"\"\"<video controls src=\"data:video/x-m4v;base64,$base64_video\">\"\"\"\n",
    "    end\n",
    "end\n",
    "\n",
    "# Display the movie in a Julia cell as follows. Note it has animation controls for the user.\n",
    "#display(\"text/html\", html_video(\"3Lines.mp4\"))\n",
    "display(\"text/html\", html_video(\"test1.mp4\"))"
   ]
  },
  {
   "cell_type": "code",
   "execution_count": null,
   "metadata": {
    "lines_to_next_cell": 2
   },
   "outputs": [],
   "source": []
  },
  {
   "cell_type": "code",
   "execution_count": null,
   "metadata": {
    "scrolled": false
   },
   "outputs": [],
   "source": [
    "using PyPlot\n",
    "using PyCall\n",
    "using Base64\n",
    "@pyimport matplotlib.animation as anim\n",
    "\n",
    "println(\"before\")\n",
    "#Construct Figure and Plot Data\n",
    "fig = figure(\"MyFigure\",figsize=(5,5))\n",
    "println(\"middle\")\n",
    "ax = PyPlot.axes(xlim = (-3,3),ylim=(-3,3))\n",
    "\n",
    "n = 1000\n",
    "raw_x = \n",
    "println(\"after\")\n",
    "\n",
    "# Define the init function, which draws the first frame (empty, in this case)\n",
    "function init()\n",
    "    points = ax.sca([],[],\"r-\")[1]\n",
    "    xline2 = ax.plot([],[],\"g-\")[1]\n",
    "    xline3 = ax.plot([],[],\"b-\")[1]\n",
    "    xline1.set_data([],[])\n",
    "    xline2.set_data([],[])\n",
    "    xline3.set_data([],[])\n",
    "    return (line1,line2,line3,Union{})  # Union{} is the new word for None\n",
    "end\n",
    "\n",
    "# Animate draws the i-th frame, where i starts at i=0 as in Python.\n",
    "function animate(i)\n",
    "    xline1 = ax.plot([],[],\"r-\")[1]\n",
    "    xline2 = ax.plot([],[],\"g-\")[1]\n",
    "    xline3 = ax.plot([],[],\"b-\")[1]\n",
    "    x = (0:i)/10.0\n",
    "    xline1.set_data(x,x)\n",
    "    xline2.set_data(1 .+ x,x)\n",
    "    xline3.set_data(2 .+ x,x)\n",
    "    return (line1,line2,line3,Union{})\n",
    "end\n",
    "\n",
    "println(\"4\")\n",
    "# Create the animation object by calling the Python function FuncAnimaton\n",
    "myanim = anim.FuncAnimation(fig, animate, init_func=init, frames=100, interval=20)\n",
    "\n",
    "println(\"5\")\n",
    "# Convert it to an MP4 movie file and saved on disk in this format.\n",
    "#myanim[:save](\"3Lines.mp4\", bitrate=-1, extra_args=[\"-vcodec\", \"libx264\", \"-pix_fmt\", \"yuv420p\"])\n",
    "myanim.save(\"test1.mp4\", bitrate=-1, extra_args=[\"-vcodec\", \"libx264\", \"-pix_fmt\", \"yuv420p\"])\n",
    "    \n",
    "println(\"6\")\n",
    "# Function for creating an embedded video given a filename\n",
    "function html_video(filename)\n",
    "    open(filename) do f\n",
    "        base64_video = Base64.base64encode(f)\n",
    "        \"\"\"<video controls src=\"data:video/x-m4v;base64,$base64_video\">\"\"\"\n",
    "    end\n",
    "end\n",
    "\n",
    "println(\"pre-end\")\n",
    "# Display the movie in a Julia cell as follows. Note it has animation controls for the user.\n",
    "#display(\"text/html\", html_video(\"3Lines.mp4\"))\n",
    "display(\"text/html\", html_video(\"test1.mp4\"))\n",
    "\n",
    "\n",
    "println(\"end\")\n",
    "\n",
    "PyPlot.close(fig)\n",
    ";"
   ]
  },
  {
   "cell_type": "code",
   "execution_count": 31,
   "metadata": {},
   "outputs": [
    {
     "data": {
      "text/html": [
       "<video controls src=\"data:video/x-m4v;base64,AAAAIGZ0eXBpc29tAAACAGlzb21pc28yYXZjMW1wNDEAAAAIZnJlZQAAVlhtZGF0AAACrgYF//+q3EXpvebZSLeWLNgg2SPu73gyNjQgLSBjb3JlIDE1MiByMjg1NCBlOWE1OTAzIC0gSC4yNjQvTVBFRy00IEFWQyBjb2RlYyAtIENvcHlsZWZ0IDIwMDMtMjAxNyAtIGh0dHA6Ly93d3cudmlkZW9sYW4ub3JnL3gyNjQuaHRtbCAtIG9wdGlvbnM6IGNhYmFjPTEgcmVmPTMgZGVibG9jaz0xOjA6MCBhbmFseXNlPTB4MzoweDExMyBtZT1oZXggc3VibWU9NyBwc3k9MSBwc3lfcmQ9MS4wMDowLjAwIG1peGVkX3JlZj0xIG1lX3JhbmdlPTE2IGNocm9tYV9tZT0xIHRyZWxsaXM9MSA4eDhkY3Q9MSBjcW09MCBkZWFkem9uZT0yMSwxMSBmYXN0X3Bza2lwPTEgY2hyb21hX3FwX29mZnNldD0tMiB0aHJlYWRzPTYgbG9va2FoZWFkX3RocmVhZHM9MSBzbGljZWRfdGhyZWFkcz0wIG5yPTAgZGVjaW1hdGU9MSBpbnRlcmxhY2VkPTAgYmx1cmF5X2NvbXBhdD0wIGNvbnN0cmFpbmVkX2ludHJhPTAgYmZyYW1lcz0zIGJfcHlyYW1pZD0yIGJfYWRhcHQ9MSBiX2JpYXM9MCBkaXJlY3Q9MSB3ZWlnaHRiPTEgb3Blbl9nb3A9MCB3ZWlnaHRwPTIga2V5aW50PTI1MCBrZXlpbnRfbWluPTI1IHNjZW5lY3V0PTQwIGludHJhX3JlZnJlc2g9MCByY19sb29rYWhlYWQ9NDAgcmM9Y3JmIG1idHJlZT0xIGNyZj0yMy4wIHFjb21wPTAuNjAgcXBtaW49MCBxcG1heD02OSBxcHN0ZXA9NCBpcF9yYXRpbz0xLjQwIGFxPTE6MS4wMACAAAAFq2WIhAAr//72c3wKa0czlS4Fdvdmo+XQkuX7EGD60AAAAwAAAwB4E9LWeHUtjJsAAAMDtABSKJwUGb4AGe6k7RADZHYq7TAw8TjQhRQg+X10oXwfllhcgq+IAxNei0fCEPZFvCzci3FBLUdbJL3QLpXlKqay+i57sbQj1YOr4mIoW9Dn1wVWbBS9ZnM+ln0I9fRipKJcn5ezNYyhBrZp0d7vAvnTV1KFYNHjj3cco6/8aJ12rjik0SgK6Xstpl0wMkfmlciz9MGJDwqUm2hCDE+qz8ji7ePxpHDqwmwJueAUBpH02qBSBAAASaUG7OoCaAQqgElwAsECvn0jL9sk7YPnCXhdkpcxpjDKyN2IrUfEIiRg0wukNiOiBfhRvAWiEgpPQgx6SJ2qWM4wePZcrFRiCz9flujbxca9yynrKIBRs2Bw4i8lQy+oLMVX9auQR9TkAAJr9gLKAAADAAM0S9t8T91/zziVEmlneM7xBC7eZU/N1dmJKesqqWN8CHjtW9w0FFhHWSjkQWhl0WE2eXrL3oo5KO7EC/t94rongbWaPF+pizxkMR8oDkfDtkbox98a3G+qAGjzyZsAv4AAAAMAMkZzsz0typKtnVd6FEFtEZ8KEAoAdK1n6WVy3SaMEDEIMUMJNWKzOpEJIyhQ/gG8DB/86IEIgNY+16J0OLN2Etz4p7pbXnGhxtxN1sZEzwod8ls+mn4jrzLZBPppsdmaw2L+uC9DTIxYSBvYACOsgGMOLSglW2pZAP+/tQC6Jf3ngTuqEQr7zGjuQ/RYqyR23OsKECD0pmhjsGsyOc0IIyLEphagutNBCUP1Pab6orDjXCpoZhzWYVymF4S8l+iNq8Oel5tY6TYY8ax47fsISwXUW1nDx2ASi1tl4uLNBiGxt8Kni3Q8KtQ8WNwDzthi98dW2nLLFKYyd9cJ/QrOyfaZ966ZAgD/6exVE7YoJVAhZQUwqCBoJWkyYn0qu1FnEQhkTB2G5vcXPo14VkhbJFV/8tURpucJPaOETDsRC+SZG7QLIqnz0vKllBRW6SnjS7D6ZGy7Hm4D1hFBiQ6ksJ5eS7yBJJEWS//klyxxvSXUtmVqwmxWThRNWAb6NT+1+5qztZq5y6QzS2BU8GJQZyqVwtJH7+iCDIOXwptaDTRZB00B3+4ynMugAcet6+z5kPdn4PixHNIYxT8/kdtzZdL19Ja46bI5MZANlzUQ71dkjCWfDyG4Xptb3Eq0ExqsQXQNoZP4VOEBPnMj8ZLm+DVnKk3YKQ885rMruYFzoQmNhEMY4dBI7BjGM9S/tvIUrRqba7PCQP6JgnMq8x+Aiw3hcKgQFAtoK/ht2IqKg7AoFlPjfIm2qksqVXW7mLz1BQkxKBkBqKFocC25iwY9dS7TPgcO44YPgNtbxXtP3YiLGtqabDVFXvnZfPMesGumDRlQH5wuubDo8YwPxglb+vRCeE1hjPmfzona3q5lH0SuL+lOJl109Ma7d0FOKbbEWYDxEsh28bi0lfy/C3aukG/3WVHmEj7t0+4fUsBFM1cMt4ByRmAvGLR9HK1kV87tygQ+GfVG2TD9gm1TLCbkQeESn+W3CQGvnoNG5kIdtQAk5PNN1woaSUhpYQnjYRb03z3hhwB35x+TZIfQtD+jUYeHocjTAd07OepbmOT1ogyDdik1bq7GgxNegBiX7H+5mxaIIMwfmEB1mgXArO61bjXKbyw5Kalt6sXK4EqL8JTfKIz35lUeiOXcpzrDqv/jfg8nrKz+B+QavbZopxQxaUuXTt3Jw0U3dJx82cDxCFWpOyJk3GpVOE7H8TKnBTB6KQHSgU9C/ab0oQC5q/q3q8kVpCZIdJKuHtUyxk41cuDHc8oriRwF1gPboCl+hSp9XsD7PltMBF42QcdTtxaEd4qAl1qFmJEpsfOSrtx49H9oAxJmRPugAGbBAAAAz0GaIWxCv/44QAO5FljQw8oAABUSohiAG9YibK2B8O5F2JT5wjde7kvKMNDqod3JQEOZ4Vj0X6IPDbe+WFLdBXj3ykLVhWgPcOxhaM5rhgQyHkghDEYLgg9YFsrW98LRgSBQt/5IlLrFuMQVFCSH2s/e1ryNRf///RoCPtiTDlU2EpBJuVRfD6kNnSS+xuRS/G6rbsg+H3kBXcyzOaljeptFebD277ssCu8P6yq2TR7L7npgCs0Nz11PHWl6L7ITaCFb9wW4nFKFcy9U6REnpAAAAKdBmkI8IZMphCv//jhAA8o0CH0AAAMA6N+YPZ8AF8I2KJ/RDwSKOGDgEP1ZOM1oh9/bH9XrUWBYRRJxjOUO6E3tbs/ubsq9Hfb8libEH3fTfrPpVeB6BylT+VwT7Vz8rjtjF9DHyKt8Vtf6tLGRn4BsE8Rtah0FKY6TI9o28PQTKl84cY1Zzb0ENQp22Bn8wq0At/LgoJvzxD23Unfc6W9IzKhKP3K94QAAAMlBmmNJ4Q8mUwIV//44QAAAAwAAZ2pVxt0AOWAR5IcZ3NuIjh8653BeBOmX6e8khMeupwhR/mNdBEgPAdRplJzULJmjXQmobAhtVqqoE145PtywFt9wP/QELZLeQfYG6qG7KFFv6qD4BxQpWLxjE9z8DQitXLIx7Owbf+LCPiAu9G23PLXCBrsbUcVFQswdeQA6pF1cIjeOS6eSz+1YUGXWJPowElKEsLMQusibdSbP2p+Oj6/dwuNKz9ie1+AmymvQFNaAEd6pEvQAAAChQZqESeEPJlMCFf/+OEAAAAMAAOgr2p+cvQEKr0VNBT+D8c6UxXtNhv5FyaendwXT6+J+dtNlA4sLzrCSja4Iw4wWFLCTPMQPHwSbPWdZy5gfiN59iYjg82KDJkD99UFPHcMYamC6LS7pAHurmHa+s34lu008+0s2nZT5looWq94noINOc/HZw3OoqWNafWNtKn5DpIsFk+a/YYnXhYu2aXcAAACYQZqlSeEPJlMCFf/+OEAAAAMAAg2uk3wlWAxcP2WH7w8bOiAobDTvaxnKLxQmbeF9OBperKF/rIKf+vRz4uBDWk91hYaNE/xbj23ppIH1CDpHybomCnhvpGngJK6E78W8193BvEFFLDVeaK/XGQQ/J9hEtueFAkBe20TrsYSxm6V6Tj32WLqQ+hX1iaDIOwT1jcALBVTRS7EAAABxQZrGSeEPJlMCFf/+OEAAAAMAAOd6bOAndesm6YAihmn/axu93D5gbwxMgWVs7SwuRFrXCbdVCXSfVmuasaVNDLz7691SAs8rHcddq9eQ40OyHpAgL+oQ7k9Mg2Qlm6l0yqrebAvQtfYCN0UrTPB2KLkAAAChQZrnSeEPJlMCFf/+OEAAAAMAAfs9CgU+eAWqhUKItdop5DaDj5KK/fQES4Pg4hRVX4ScspcbsLiSIqM8Fa9kZRQtnf99T98NZbatl7Ie1MzpkE90Ugl9sG7IkLBxbEGcS3WzQjyjL+jxX+X0eFq6Yrax8GPVE8SnfZXorYitEyvGGW+nr0RZIcpqwNRxdOg+efD9zfEWu/ZA/A7d1fWIz0EAAACZQZsISeEPJlMCFf/+OEAAAAMAAfvOQXJb0AhGz4+b+zgaVgX3sLS2hDISMPu7SDN1NAUM1pKshCqeRncYGl+6N7W62dBStoJJ04rwdKTyiSmlBAfl9u0rq4k1vCJXfDjgQNp2cvJqrNfL4c2tgIrmnohEcjivSSa5S2AHBzIAovwpt+puXtV4neF9cBzkNfqnFBJ9KO6yZBY2AAAAlUGbKUnhDyZTAhX//jhAAAADAAH7zkF5qiATVzpzZoxfjxoReTgv8kOh1Bc7Xg99mVSVJh6GigTJHzL4rUoEekYIw975A2onPjzSumABRnvMSctwchLkpcpHxE7tAK3gkPwl5UejCCIZ4LYj8bXb4tIwNouALS1+onv0uWjDGcjXLtJGTZSFvq/rJlN0wGnT0w039m1mAAAAkEGbSknhDyZTAhX//jhAAAADAAH9Qv2+UilRANVx7hmMBTE6rBP7KT8zYSHjoM1kSi0HFcfQW4eVDFcGaFcBmmYHPbB11l1ItHcQ9djV1CUJA86+rl+sgCMSF5ea1dlcC3Xjab6deHtB5J54iw7ORL+JU9oT5QotNV9V399TV/ZMMvQIe0bbtM1nfBfYu610sQAAAKJBm2tJ4Q8mUwIV//44QAAAAwAEdQFYFPnoY4/HrNodk2whoU43YCaMEeG+KHtfllbtgP9hxLEuyYhxC3grL8Lx+tmpblSeA8nU0+bMXaLUej73O9Jg4to2VzEUH/XTB/xN2v2ykP8Ih/RuWghObekxZSB21YEy8LGztHLBOPuwl90BKWNxTnYOHXjf5zaDE9Z/17S5yvmCUvdkCWQ21vdLXRwAAACUQZuMSeEPJlMCFf/+OEAAAAMABHPNF5y9AIRlLwbdy5b7rFxYiG0lW3UfFGPHgU8tVw5J//6v7+XAWS9Jq7SshqKEX0awripYCSnG2QgD9k8oPHCIzQSUTEqWfDmAkflWwd3m36FRaZh4KUqMyLteMZLWuiisAM1wy7yAXE3Jt43RWRMk7gkkLBXn/iGLdlB9dvQvvQAAAOZBm61J4Q8mUwIV//44QAAAAwAEc8c9wL0AX+YQSQoMywQQ2i56lWJD7GEW86k3I47q7a64vQ+qV5Tr5HkcBYgrybaQCVmUqjyqwClOdX0ttk39LmLJ76I9vNyp8sg1yUWUsGlAL8YWHdNT3U+Lo7Tze8/Xy12k7/B4jNT+k1tqq3pLzdAUTvt+qrg89QF/lZTdRTaWhiZkhDNF1CGWGkuBQAqBPJaMwirDFF+JkDgld3oEDA9R5/Cs1SeEu69/8YshOnb6ucT3TmhPEG6Jv088W6vJ8GRlAC2MwF69+xBrXVkFiG3XdwAAAJFBm85J4Q8mUwIV//44QAAAAwAEdEaaAQPa6yf/zz8qoaHsZnhiaG3n/rszmUREsEuhA7RsSuOFtqUQpJHE3ctIdm4+4ri4A5MiBAWgt4N2PDeT8VMc001kVRememawaIqeLfT2qjB/z5QTdA4cQamgnvZY9OZyt+J6YeCVgLdTXo/DyoqjGmyan9HzVqus86kHAAAAtUGb70nhDyZTAhX//jhAAAADAAR6Vft8pEHk7XOtABCe3AcP25icIieqa/JhEDjY9RigjU7kjjFy4LxzjYUve6atCmmhpZgTmY61ghlkMuIhTQ3/FUhsrgzP1atGcHe1kU/hftIsgjqZSTbuvzn2eeEgZ1vwjWfPBXLYXIP/icTZ4nnqNcXSy4FQ307fR0ksxNaaKlAtkzcHapYWKuXLQitsUeLZuPDpJG8oacEMyCmuokLAq4EAAAEFQZoRSeEPJlMFETwr//44QAAAAwAJ7GhzMAxgCtuPflLaxYIHZca1OkXr4UEZ/Y4XZUqtxfaB35n6HnPEFOcs/0BuSq1v8LN+EP76IWMta0CZchW2aGXKrpxnVQHQQAA7GotFy9V0gWH5E9pPD2MFyafzOq73OTxgD2Z6XhHhQYozscHxZPrc9mJB80SuNYLJ8n41PJt2isdfxwM9wBjsLqWBv6bBskTYdZd97/YN49L1D99LMx8sRGQ/jFI0dPhTQ/tLO5w0MsJ17PH/CribgIH3IxYLFCnKuNvaHwa8NNKp7Mk9svNYGz5tlM+H9zWn8x6gbPdLVUwoSsEM/Bjh3K00IrS4AAAAPgGeMGpH/wB2wi+hoa+HGwjDAAADAAADAazKplgAADIV8rGaMsN+FLlJMs+iDTw8oWRIyH5pGKtju57O4eEnAAABYkGaNEnhDyZTAhX//jhAAAADABY92+BiTJgMyfJWkbRal+eW/qBei9uPSAATIq3Pzm/pqXd4ZiE7aPgLzkYKOsPN1rqzNO4NHcLa/vQ2bOf4K8BLGV3jDnbMfUd6eRSUnfOnk6dvbqDQ+08fJo4bObKQ/7OvPWUl0j8IvMRTzVFrtSYlvgMxcGVZETtX4W4cywqt8SxNYmaJ0kiZlSEGctSnHWfC4VscJ3E38T0NH36flpS8SgSr9/z8ei/ALobGoOLVe7SFrxobvtAut6U+8lbH6jYuZd9ySL4LSyYZG2d+vGH6F6Gq44eC3MIiKvWwwubmMXGyrwa7Wxfwv/B11dZkNHIxAfoMferh9Q3h5r0B72vm5JVghxMQb5Ml/RE9HS93hsVFxX0MOue0U+Yaqc6/EL3IweqKEq3TQk6O5bZzoaht20BC7hFJ8uEfIkDTGOqy6Jxb8LrzAOV2Er8MaySwQQAAAE5BnlJFETwj/wBLfOsTCivEsEva4AAAAwAABXzqmWAAAbiffJKgu1LkEH6wiXyu/0qZNCzHYuO/9tcOeoUmBso60vXzWIEWZAw1NwbGuYsAAAAhAZ5zakf/AAADAALpnqb6Xh+/ezrT2iaDSeN4C5fUAUxYAAAAsEGadUmoQWiZTAhX//44QAAAAwAWGLgxB7ADoAUs8y8yHJ9G0VhJebheAfI72ZWSuUeXqde9Z6b0EoNZThXjb+WWPkKoTYcKsmiE347OBrX0SglPgt60VmKZniMdGG4unzmhoreqfUhEXQTBrqhY/AdDQPq0bl/q/w6fuZiK0JnNIkj+CCBKiXejV6iB/QlhyWTpcS3Uzq3KkcQIuyWIyWzWjB1MkTIVsbNmx8FYiaWBAAAAu0GalknhClJlMCFf/jhAAAADABYbMAABm8F5rl8SMYlUWs9aaOUJg14Dxm6wNG57MU2csn246wV8w5hWtBcsJcsp/U5ao+oyw9rYEj8luW8pSGQ62IiqwawEacEWLF+7bdERbQSgZeAud/cC4PcdriXCe4UMT/b3TFlAFebGdBoymjPf2XWcBC1UdgCR0y9mjzeoKYYFz+Y0aZtnPpz3wSr1os32bzG7RpbDydbAdOVA4szOByx+vTZ9AvcAAAC9QZq3SeEOiZTAhX/+OEAAAAMAFhkIjDd7Go9AA27MDR3MIfqiSP0wuT8HVUrmdJfwWSPTivzUPT80Qflb07mHUrhZtHTu6d/+TkHVeka9S2Egf5IM4EJKNQCe4lc/a1gVPS3xUPTz2T3jAubr8gbQzbgKkMaKflNDjuKse6hBXDf7ncQi0koIwnfxj64J50rYKFfduMi+T/ZQb/Lz7VRiWc1JvWsDplWLrgqOFdACJCQ5dXINSAnZpN928aD5AAAA1UGa2EnhDyZTAhX//jhAAAADADE6q4Gv0eEQVETdIJitNyZOFPl/+/UEnZKr0uEERr1aren9U08V28hfd7EH+4q6lgiqQlN3wq0+1dbEhCZ4zcKBlV5pejkUAeKEuRB5lkh7t5UXJCjYXwoiWOciq+q6YFRGw+cpY35Iq2ZV6mSsYraVU1rDTi1SsoXFYBNbKBa94TLbf8b7SKKXw/WGWnFFI+zjwXJ/+LIPuNLTOaTXw8f6bdkKBgU+beIM70FHGEmmY+47axcFVkoNQ+IMbqV0n8zKCQAAASpBmvpJ4Q8mUwURPCv//jhAAAADADEDnAtMhjAHMNXiXNI0hpRZBtQid3GrJle2FybitZpgPe0sjeyBS+q0kxvyNT+EtyA9OLoTlQNyyuTHTkD6Aoy2tICIH2DRlh3YTKKoeNk6sPoEGP7pLf/WXhL10CPB3NruBFTuI+bEmXz7TNDTtEzwwSe2bcanAnJvokFnFxy6c7LZDLSlODRXh5U21LKyGbyHxq4yiPo05FUkqtGg6041ra64U5z27MaQa3bYCJPK+gOE4sYvILkRLJQ+vyFGuB78Rj73pBi0NdO3MkQ91opNzvU0Netj+xuQY/+PZEL1dNFMLTK52jIG28Hv9hP+7fKiudWBz+dWT7lOriPTALJJE9DG4d36Z4Leb57M6Cah6mxpmyxYAAAAQAGfGWpH/wB2wi+hoa+HGwjDAAADAAADAazKplgAAPL71YfQWSC+jbiZszlgEmSz2Fm8rv7WqBdeeyHE72bUAl8AAACBQZsbSeEPJlMCFf/+OEAAAAMAL6dwYYv/rZpS8g4ARi5boOORG+ZsbBF8vTal934Ol/+tCoOim9NO3jO3shuukUT3PjgzoNV9Gdknic39K0Lrvo32Sw9BAsfHrlRouiWwsurH5HDDMa5GsXDzt99KN4VNYr9Uz+NAJXE7VX/ob1tqAAABW0GbPUnhDyZTBRE8K//+OEAAAAMAbBrAeuBr0Ag+QqJXW2HjfxVfIQQnMBRriNo6cKwoayyXMTUlJQzA1jv5TSegP77FP8/kF9Bvj860m6G9n4Ry3RYObm1Tn5ZyxGuVDhLZSRt2MJVdBJv7qey6iNyu9e4ffQyOnSvSEv9xJvB1rnYDFxNiw7+t5ecuIBcbUB0MaPVmLonok0dwUXPJzE+tmkoshwIKSHSiHKt5P5wnVY2orOLX/5zcq0ONMaY+9tUmEjyzUaZuekThHuIxf91Fl7bttxEg/ZQ3RNwkhoY5b5ZiXgwx4MfHtCl7vKik1DOQddwEhKuTA7um16LQOYHnqY78yCkki0yVwugqK1zuPRU3cMebsmhVh+pUn9yS6vIEouqZU28Ky70t0KfLNEayCyDdzmcHMMJe5VtZOA2gCopr+QXN2O7QgIubm/vj1NSfiYaPP5igaUXxAAAAPgGfXGpH/wB2wi+hoa+HGwjDAAADAAADAazKplgAAhjy252SJ+rFtNFAWGlqlsh9nadYDO75pYZQdC3DWxvRAAAA7EGbXknhDyZTAhX//jhAAAADAGu5qsBHhAr3YlWKm4JDG1oAKB8Lck9qMvcK+3Kr5pXv+/k1zSSn7NHFbSZmlgdAZFNCB8o2A5sw6KWa5nsZa29SJzqZ/jUiKg2qMitbLGMJsNHDM37JMkR+cj9WUsSL/RHYV+u7bcvG3S+up1n98q037d8sWUAjBb5N/A+0opsADEFyLbXm6xVqGVpMsfoW2RqBiZKY+4jzJwSasp1Q5Z+4b/ebOwr7wOh9bQ6IjCKVaIAGfTWRtrmTXxbstUlB1pwzZelwEWXZOhee9lvQT4Y5+ep3SvZ8He6AAAAAk0Gbf0nhDyZTAhX//jhAAAADAGwHMvhaUKmoAiYy3ObmUUaujWsTo22bybhTu64oMk9G9l0k9Va73ElvDIg8UKwSFQcDbqgr2CZ/gP9XIUVLO7umzlna2EYWdomJ4LEjbUpTcBfq+O6IQoTPEuTUok86icWd7oP3vxLt70xfyCxmWrWjMLv1JTgyqbajxM5C/ER6cAAAAL1Bm4BJ4Q8mUwIV//44QAAAAwDs99QKfPALVQq0PtlShzq+JVxuGIxk2S5nWXBoAX8DI6N3el8M6rzxP1DZ6hLN2Yj25aCLpMlFyrAxqEwIHgy5EejnqitY9RAWJIKU5L65FByUrs19hD0L3T82FyFMfLaDrldfjrBqumcQbtMbSBvA9TVN4UGO1W1RyPZ6fJ94goobcJmtL0Ag99wobnW8lKwGXHoMR6lj6CPLOBI0QJ3p9RKFDJuc1FtPXX0AAAHfQZuiSeEPJlMFETwr//44QAAAAwDs47ITAMYBNe0iYIA7mKbUH7Mf5kiRTYDVW/RKhW/m46ys61Gewb1NJJ5SQrAXSEC1JkTKARaYwDvGyaUXt1RIZAdIlD8Wq9GG6c3lAGscrxFQSU40c0OEJzM0gd4Da8hkpWjoOy0sjNdmmbW6/CtJubZ0SywgK9mZ1hFf8sF31mirRJSrAFeuq19ln/+X+9eAoy2HiV5pt8kfzNCon1juuE1ZhHllV+rwvQ2nEqAtGNx5czqrQP8uYnXH0vzqQyBw3xiyblT6P7nqFmuDsjxozDflawAGr44JGd7y/T+ZET5poLuZj45D13JoYuIzi/LZZzRGtc7KHvyQlnzMpU9H08g9USBQzOnTvOHWei4Wjn///Nr8xdqEdlSKvmBGH35/tzzzyn7HE6p3+OAc/N3Ts7L4/RoJBj+pa65hI9TJ1ehKwYE2h/mfRWluAFnXaoOPNBcwkMJV7I5kvPe2gS12GHj2bhHM79asGYQ26vnEWHhzfuI1DI3upaVRI79Uh5OyB3Yby8qgCUAlMjoXUebmejBa7crmiKvk34jc8Sl1CI+yfFSWVVvVod0AMiNm3QKH8FXofQDIlR3YF9/gUDlroAp4qRBALuO0pIAAAABDAZ/Bakf/AHbCL6Ghr4cbCMMAAAMAAAMBrMqmWAAEsApgeybso5I0hVmjVkC3lXDCpN/lZvrpJvcWFRjmur051PUi4wAAANFBm8NJ4Q8mUwIV//44QAAAAwDuA8b5SKVEA1TozRRa2th/2cYphLWqPeHVHFVSoLh4eNfiuO13GtHBRXYwiZQHGyonhUXyXgLt5mYie1f3/bWXbWdfMSDIKkHCaPJJlrZ4syaYhkAQjOjCvT18ovTf1cWQCunl4odIos9jzyygjMOgHil9qr0rrbpDeQOyrOba/BRQdQCbyGDq1/YBlBzAVy//VAdlaltXMUdiCaXDX9hYviTMifv8kVw6NRD1j3yL1tVVj2GochCuBhZiZaiQAgAAAY1Bm+VJ4Q8mUwURPCv//jhAAAADAgqeJriLi0wCcpLgh3tdv0OL1o/DxWlWDfs3Lcf0oRrpmG7HgUa4QbV1AoTb3WuqOpY1p+W2rnR1nycLarQyKf6bUoz9ljuQ9662wS3OCmBJ8lwcqcvIv7qrfVCAUErbGpZhSbKghJf4PU3ZTzjx5nNAtP+e9cJCQ1QetrxDuG/PT8P2+jB7+vsE2amzsq6DeXr/kcOpRvzGIyiycPD90JY0nxUj6ihNsviCV1J1azwrS64PYE1aDIgEilXR9V8kvUe7oOp7uHM4SMxdkXzG6kd2PliKfFbtnjhwi7Q5BtOlw0D+mjNfNcarhb9/2iDPu/nD2AmmggJeqxgW7Dym+qBGUEG5VI4AUjzYV0aeZIrOm7vOiaFXDaYvZj6FCbWcQkZ9ZHDhx92W4Ebxvrw5EIkgi9V+/Zlkx48GkJObjVxKHgljYOYLzY9zFsyzhpFH7aYozSeJgilmYAc3t1ubAp1qAChyCzDIrwi6VRMle95m67AEGP3oMPyBAAAAPAGeBGpH/wB2wi+hoa+HGwjDAAADAAADAazKplgACnhtQpv6dJqN7gby0oEwjCYL2rtl9FMEtmk170QDpwAAAP1BmgZJ4Q8mUwIV//44QAAAAwIL1owrAcnyEzlaAEtjRtOftZRTW8CuL/zOmoJ2lwv9BI8gBCg1WFalAGIoIqm6/kLneGwTXW9TXWnd/6W2TxUrMMT5Gwi6uEDrit8GZ8ZMnJrnIV6QDb1mGJI46f0UOPOrkJsdcsL6czrV2QOMGvgClqq0RdLV/xUTFvXMx1p03lQu+IXkxOcuQGV4SRyMIx4txY+5Xy5OftVl8UnufXupQhUs+tRSw7+C5oERVDhtdtEs/wwOwzJhFZYaXrrqNieGIv5M1dyLChOeQP1ISfb6hHtUIt3rOcV81ntsA6cwBWLMTIKh4cNhwSHNAAAA10GaJ0nhDyZTAhX//jhAAAADAgyqwMKuTazFjgSgv59bSuvuUAIuEeS4I4Xqb/eEY8KLexDhzB5PxEDAWEo0ukEiXDdyWuRZIZRxHHgLhh8FrgxebpZ1PdG2H70/Ezgxt8Va/QBVHejA5FnKdXvxD35NAC+w/ihryt8Wioir4AS9fOvSijIychALT6rWzmMujJ/85tkDouzsuJeOen4niDR8IBp8pCAVc3S7zKC+8Ea7H1e3/fqQuXsEVo6E1V2FWnL6Fz4qncBw32wpf0ME9xH1/0UM9fLBAAABK0GaSEnhDyZTAhX//jhAAAAElDigGZ1zeIhzlpKLTJYJzFXmyD5+6HXUFtfMWhOL3aKmUVEFJ5tzrWBfeeR1XHrdCNR8SbhMI2ec1fc/MBF03qnl1fWMf1Py66jPOb606zHI8+lwDn+7p5ZchVOUx6e+AHBwclve1OvuepE5SJoSeUHJE/dg42sEEBQVzXjF4NLVmiXOjlBi8mTJ0tlG3QX5mKZCs1Vl0koNDBBS7L6pSUtRgOKwruhND+eSORkXcK4O11FyET2Sem1fX6QLmHCQfuraUH4IXf1hwK/qzEJPPiboMN1uvgilfCaCzu2BGm1naoyfZlNQOtkINnLrrvhclHNnVocIvm3TpAiTlc3CTI/ZkJfzKLcqzxwfBst9IZGnNxmt+cbtoKtoAAABxkGaaknhDyZTBRE8K//+OEAAAAST0x37yogGqir7WG79OXsDmUYWY2/hcQ9FztaqrY2kamEZcGt7xq3yJUSjF/adfSTZf5ooEyR/hhderzdAVEne3tSlieDcopdjVh/J8NHLAer3QoSrqdAzXktcwkJk+n88Jb82+S9kaqt58vBttA5/qqfL0TwLD0aHXFfZIeBSkZN4QQ3xpANl16MoZEfUXu25FtZEyIQhTPKoIK8nOf6eB80NzWPJ2/OviyaKuIUcV+UZEQke7NCTEEKUi8+ZZpQZ7e9Bx5fwie0taJ5myeo3QylRQQlvf31uVO7m7p2CP35drr2nYScA3H56yxCEmmXh1VKOIuXzZDICLxblGYTPAqmolXogjIRahB1sVVKCg1nOT/0pja07fGeejqIyjvqwp7/IELYLGDsFWhqZ5LT+FQWbTrKmHFG/qZMKp8uc1qvrPdwsOrV/+4G//sJl7aiphEo7TE1IJpHduqejLnadXkiCoKyyFjG0meUfZFC2hHxRxKV8qWihx4cflSvaYiFpx+cdkrFyKh9XCJHBbCKAPOJY/HjPM/AuSOZUVIHeZ0EFx8rP63npnAe0KidVYE6VLiAAAABFAZ6Jakf/AHbCL6Ghr4cbCMMAAAMAAAMBrMqmWAAXKEl8mEj53Sge17EA1Vc/fzuZEopkihl1cRusAD/7qBiUHFoHgEvBAAABnUGajEnhDyZTBTwr//44QAAACTdE2hXZkZuHy+H891Kqsp57p7/Ot6D9mIozEatGPi/8PBZ7vwq5aE4ULmSk/VmB7bOLEbWD0bSPJh05RdfbSWiVyRlR0sx7wSDthAQrQDlDvLn1i/WX3t4hCOEbBRb8raq06nboouY9ZtAwRjMFkWkpwPDsug9tgfi5B4LV2JOzL3Emw9Py21voviRnfvLC043sw7+bYMA1tKlYAhhTjjEWk0q2pQD+PeGbzA4aDx+yuZNqHKcqRboWNwFhfp+C1chxpT3w78bbkJw1elpG4VoRT+JLSYjs8qX9XSD01zI9i8pCu+I6+387y4bqZIKkqHWZvfmsOR7X5CP2+K0Gm+EQnNqYA94JbEEZPaB93TQsl/swYETkXCMIHminR59P1bcjQRDIb3gXXDzkf2h95Cq9bLeKeQ1OHUD/tlQTNGRkTuXYjD8JorViR21wwc7vflq4Lj6vpjoXHrXgU8pQgmRWgWmZrPzPONeYHgastIHzVgsdgO0liV56JGt1cZ3BSOD4fpj0/7nX6LuAAAAAPwGeq2pH/wB2wi+hoa+HGwjDAAADAAADAazKplgALUEQCcrTq+zwWzYzH6auc05Y1umBFRKcMb/03Sj1KGAMqAAAAaFBmq5J4Q8mUwU8K//+OEAAAAo7FtnvZ7AG3JZuJMVblEqMJf1VTjaG2QEgxZYjCTN4M9xGxgXLF07dU+8uQXFTSMr+xHZDL8aFjYF/6akBhdSpIdRuawTUS0DiPITdE7qugY7bbSKaSVLlu9TkttYBuYs6YKvNNTZ97WWGX1qG8dgsGFUVe2o2DBm5Az7ecf32ciSOmVbCGbQ3gGTFSPdLswXEA2gDEj1Tl6xoxL6xsFpRv11dfz8py19d9UW3cYRMJeDsbwfI37Z44YlcxolfNvSutg3kTGpEfVYpIDmsAxr93xGQrztJmbqIZloJeBSLQJg+2YOr0YBJ20lQHIGjeEkYgXWANaMWwMxIk3UU4cEiYg9EDLCE3Xf86Ib1rFHfR9y2HQ5e6cDmDg8ctpmM4WtxYPowqSU9cA8pPkvJCb0gYAy6RT9BdiicjUYEHCf6/3tgqFqw/N5XjtGPoidgcRnA90+mkznypPPRFDrqWyMpmM8oCkj0OTgLd3ibi9WxRPnvSkuM+0EgY/aYeUy90WwWa62O3QCivnDvo/aOpIEAAABDAZ7Nakf/AHbCL6Ghr4cbCMMAAAMAAAMBrMqmWAAzP29uut2TulOqIcuo4ralQBygAXhPoJKkZ/3JA48/mP015U9lQQAAAW9Bms9J4Q8mUwIV//44QAAACjRL470wCczvmkNkH79dvQCI9jbu4BYei3foTXaW5+olIdKNp5W+6Jl7lT6tmQ3AHV0LB8VxUF4WRJSkress8Cb1bOw1ApKzyFtnOzFX9rQXElupBNzkc+ZfeB+Mh7KRoKPy0aB6U7XofNQiNWRQrRgTweFvIZNp0u3/gCo4sfHK8Bgu7yTphqcFo+5ej6TisAeQfLvco56lRhAW5NOpbeBA4ShvKBR9zoiTlk/zt/WAAg3q6YjDcWnp94Co0WX5IIqhRqKb0qWJc4BQJXBga9q+mwReL88lVN9OzmscK+pUen2g7md+SGFePKY83IRN6Ubk0UTJBoeir5satyDbFUHz6WSbD85pur4QKi8xDGfowOLU0pnCf4zCL5m2vkHhhxU03AuxdVOA+XXW4lsLbWxnh6AnWdes5bcJDlYVtglqY1Bog8ye+oyhukLLr9A/npxlvkMFPN+m4BYf0PSBAAABAEGa8EnhDyZTAhX//jhAAAAVrk+0JtAr8wXjfAE8CGY/4fe//9B2l0fK0V1uHB084CJ9XM9BZexRWJO6fCYVoWcFK1TbsjHx6hP3RjU3kalvYeYcWsDeak1p4hcwLVa1BSB8OOWlgskf1aLjo9cU1vfP04/7ACOzDRYZKkvi22qA+YRIAZ5GAfY4HglJPUIp6CF/FzDyAlEjTfBn+qZhTVMxxJ9DZeb8Y0JB1TucnqHBGcNC3os5y8xd2g7z9yzDx4n2pXjwKH5mZAQv3KoToeKWeEc16nZVbhYBQglwS+CKysnp33B3f8aR27iq6bvLN2nJtEWbMQTyMkVgLjmjD5gAAAG9QZsSSeEPJlMFETwr//44QAAAFrAKypT0XoBaf1j1FxlIbLP1KMsZtZqleNacFpNdX4sKDP3RErjkWAkepmaX68+YCuSrX99HHXNaBe5pv4Ladx4oCTXgaQr/ydCEY4eutNTU9m2iwrwgu7RCXOoU3Yt+ea+zWs5sxbn5mTEah2CCBadGu5is+uqWmaPx+5AluSUY6H9qOZh1zIa1nkQurcHfRp6vk04mhW36pMZ77YTafXWxoKu03APDQcI4uiJqgH5Er/UeZTUxTEFUizNn/tsKUYHGn9pTD9qbABGPEd7X35FBaBvznxRQ7Ju+7QBwJTpqWwB3MA24OSbtNU4YhTqEvPfmdGRPi/atqifQVRk21O8JoevfEoo5hLYSua/7jNakOSNc54hfw+2q4xKg5eK0H90xRCbDFKMhs+kOy+0Pa1JB4KbtYOvG9ZSWyG1YKJGG9N1MuSsrldbaHisiuw2dmuCfB+CaHT0L9YuKhBOPEu6jD9+e5ICAUNE67Isi3WivpkFuwujD0B8Jfm1aHw2TCyPVKkhY1QpKqWJUZUYRLtVNt8iH/aeXkonfGxRoVxY5GfmFuKg/3G6HgAAAAE4BnzFqR/8AdsIvoaGvhxsIwwAAAwAAAwGsyqZYAHCa3t11uydtVHtew/IvwpOACUb8CG30yEsDrL1zdaJdIeyTPtt1F0SNgOeCjNlgAu8AAAEJQZszSeEPJlMCFf/+OEAAABaol8d6YBPwkNKSDd6ETA5N1Za5pE2eo6Db/NUVM/d1xTdThayiGEJPo/eTui08P8dg0eXsDfsOSCIYlE3nccY/PsIGN2S3OCAW+STnrYdji0s9lFmXP5W3Bz5JZIm7sZbOa+MkOYUt6wY4r8IidmYlolr9GEIBYFRCcnGIxuSjagK/CjediBuXJ3i1tyIFOTRwsAqi0lFIgw626SNK29YXRsLaeo9zOq5oOUyVYBFQreU+cZbZNpqg9gkrZqRx8l1fuK/llxCYSfoZ/iP7tXZxX2xBQWu5sSYLivP9jFtJafI3wVQALPkdTEq1uGkue1cHE9uJCyzegAAAAWRBm1RJ4Q8mUwIV//44QAAAFrAKPlIqXoCFVk9QrGIZp7S3FFTGKYcZVBSzCnAjbEiVx49i5kkAaPAMVCoycdxP8wUHh6/Yq4cpIq71Qr36BmjwzuPKO5Mct37DkeEQRkoOwbenHg4/JkK8JO9Tink0dt69AoNFtDKoHNyyCvPnTa0j6kK6BpbWt9UaYgA+mLHZMzSkhyHBs+A7oyr/1oyfv7k8VXmmlWALW+EtnHfBpUV4ANdPQ4QNY9CjCO4wN360LquC1um7a48z9yXIS8Mn9X9cIkUFg0Zx5dv3yIKhvunTPB5D2i5VH16QH21y09josuz0DxZ7c3KauhFVqFP+AEzgLwQ/iqniTtDeoR1134rbDNVdeT5pZC6K844QKWmUlQ8ifUr3x3DnQAYoAci5dmNjXyr3fqRk5B7sK4ARIjZMde581AXQemTL9QYFBWQGv1NHl5ceLku+IKAxthAvHRlLwAAAAQ5Bm3VJ4Q8mUwIV//44QAAAMnqrgYkztnyVpG0MNuLHT7fE115LiiPC0e+p97/WjUkmgtUU5dRfH+C6TfqXRR9sL0yc8MPArkC1L376GQEfdkaa8yf5E61O7YSuZGGE3mO9M9UWm6qbiA2kwGXCnBKdqg1n1KySp7nP0uw+F+L6xQz/gJvi4l073i6L+H3qZJU+boSaRFql09VJTCkZ6jScviEW5QzjTV36k7hIrHSZezM9wux2pfko6DSn+9bj6QuP2wGOQwFhkKS0Yr9bYsUV/rvZIjFCFwY2dW/QeKzGRJ1ATa1qDmieJ/eo+CxAwF3U/QHdZYzNP80WP6b/KqSFmpKjOOBT1lN8BNuLHTEAAAFVQZuXSeEPJlMFETwr//44QAAAMiehzMAxgGqyGjFjroOpx+L7wWDj9QmkqF8MzeSl//uK7bf+MHmCKhxVXFHAveaQLoP68hZk5+hU0vymbkCMKnrhPbOIHFj73OUvwOGsXoLgT7LTLFARcrKj8tQqGrM44E0DLjY0WSYQcPrrxVwA0CAQPBGe3NCOmU7Zeg457QJQibxZr4spdosVQEFVe1eG/M39qjhmEDtIbdRYJsbNoE404xRCZI8+HWEEguwXY8Fty9F9BHCGGFkmUPnndo8NWYOU+elwDchzfjr0E79odw+Jgr969f+p7oF7RQdb/IF9za2IZSKOiztCJE1J89h+ZuqeSu5D1ld4vK6OmdxYKRJtXjXYdjAaJQYCxlIfhPbbT1NJu06p0/JmZme6Pjyng70htxOs+Bck2utJuapP0M+0RqhVaDzs/a05BEFb4C7kAQ8AAAA6AZ+2akf/AHbCL6Ghr4cbCMMAAAMAAAMBrMqmWAD3LBTyN80N6LHuGyRPEvUTJ8tDEaxWcNXTo1qZUQAAANlBm7hJ4Q8mUwIV//44QAAAMjLakerZNpZiylqaZWVManDTEAbOhB689TDCHu6nca+R99rRxcujmfm2D3K/nzik6Xl6jWrrH/5Z6kHBgfTzhJHnBhvFL7dBxWelRhoOVR2HFsH6Dx8MAdr6dk8tc63sV4p8rv7RtUVBTmQvt/dqZlMHNGU/n3sdHLqCAuM7Fsa3rFQyVF39eXuftoty1b2zRQhb4wwZRhchFVukmRPGFlPyxZlncZEtzOzZcO/yrLpiWOHeFsAybJ8LWcdZ9YMSxrFcP/4NMMq3AAABG0Gb2UnhDyZTAhX//jhAAABh59qAQkXEzcDn95aNW8A/A46Bi8Fxyb6WCHByfVE9NPHKH2kIlmfTql+oXPlN1YuZAv65fc71uqPm+6qcE7bpv8uA0udZdPD7XQ4y48EP1AQ82fC+4gmqzjHtZnLmonrUZ/aq4mQsA/8LI3sj/jjjkQWxVJkhrzsu3MvdVgHSPW+TssnMIbAt9wq53n3w9bOifoPZiayCFb3KjkNlj/4NcEWHDAsZerZ5h8tQ9S81vipr0eERWXJ1W6TAMTqwjnAAdgtoKjXQ18beAeKGiW6C7XUv8wY7fzdPalTee5DSXD9eCD/IVHS4EqM2oic3un52cGuEOOOpEuUtmFB0WqKquTEnQTbo3y1hm9AAAAFQQZv7SeEPJlMFETwr//44QAAAboc8/uQ9gCgezOkVuFLYiVyAB6WgF+sgvBdsZq+4e2ej+fOGPQ4S98rvcAZox2rbaTRJbR/5Q/2wlpOLWezML/iEez3C+a5EeeH/aQVDZozuQvYRTybPuftRiFJbSB/vOi1dguq8b8BOPEeGS3kjJItm18JcLL3UNULOpzocnjmLrLkfAy75fHpcvZwHbnLdzKZKjPrT7HrjXumVfzh1LZRU3ox1x+aEUSBr3nyg82iEvVGqxtdQfYBNXsYi6u0h5Bf6qepX65VppH11bUIKzHlynGCSlbxrRUFhPDOMalY7ktXBuGIaHSOx9gjRIenz+2yMNEaOS3qxxCeOT4NzPaDexlrgxemfxGY22sVs/XVHj24WuaWVGXBHuH3ib3jstrkr7qT55k2VNIa/FrQda/OoITBbBZefq/unt7cxAAAATgGeGmpH/wB2wi+hoa+HGwjDAAADAAADAazKplgCJQxaigBtOUMCM5YoAsbfp7BLzUDDgMcdvgpZPUEJEj+k1NySTveySMF0Kpf/429/5gAAAM1BmhxJ4Q8mUwIV//44QAAAbljjoBaw41nST1RjSjhe6I7G0UpV/71G5pPCeA+yYjVaEvGx8dhrDyPStbPa4iur+7t3W/CtW6t4E9zu2Sy1Eq6ueKMl3GGHBcokG6HsqubcfoKTua1Cnq2+OJypD58XZE7ck0yCxeVwZ5zntqXKxaqQijUwvVS8jbOuaWkEpJruh29PhA2qOsZNBigAEQmJ2BpCK5H1wudxp5oDADZd4JukHtgyCr5hA3rB06yRY5h09EuiIqmBrxX/0GpJAAAAtUGaPUnhDyZTAhX//jhAAADyd9QKfPTcm/0DAumjraasNp/pExm1MCH/ZjC9N3QIjjufquQrK1X2CbW+5Dsz1L2YZbCm4lE7J5G/jzA9vZy5gV/rBypKXvJ5/kJ+oRqso2EGg/d3BwgzJmMIqcGLRXMOJPT6Tgu7M6zy6/4Z2HYY/NUABpqOK6dd17nJpXg+cwcOz8bodfyDG28FobAEIrn1wwuKPghRYvEGC5Vu3Zqb7Fcw9F0AAAEnQZpeSeEPJlMCFf/+OEAAAPJir3WsYBNext7mQjcKix3ZZHrejuhrBsTNVGUtEWjwLhizNgimuUqkSaByYtU1EmfnTT2MUo3pKFSy0ZWHOif8b3Bg9y9KBE2Y9CAfL3vEty16eJKKkPkDmE2gT6OyO1pMJQJHxDN9VchJ3Kp8PCh7pPvImWxg8SaZdcS8oscKWXtqU75Y/7C1brFBXh8knRMfX55lOHW5Syc6xs1p1EXvbebs9tyoB+Z/KERLqr19G7Z+M7ngVlyKlusKRvRrrVvefyAKySeaGzL0mU4nIy2s3a/VZmbgl/RTdw7bxYhpfAtB6wfON6kts1bt4RyWCyc+eVhllIepppAIbdv+ncvKBBFLB/W0ieei6cCPdR/auW1oAwDpgAAAAQRBmn9J4Q8mUwIV//44QAAA83A+p6GMAmvrCSskOCiTSwSrDayo7GorSj+D3xYMpPxPg1Ak8I9uyVE0LVcLZMlp7CUP1/f2ypsCASbB8GsMU5v5dvlLgM1HeIwrYkWt1DXQIpxTGibs/8qN8/VHd1KftSHbfBvpxqq/+eCfILuT3Alvzx6ISuQpMApFLxFwY9cAVfglKFYqD82jmRfuUMkDTgf2HcsSPMi1KzColl02cdW1RbbwzxOCrHiSRvaon4vwXyqJ/Y6vl/jCauxXV6F3oAoQFtCaAeUgN7EiOemrfyEbR+yEUzrk5ZWrlBV4yt6N6zXgh0sJ6ItIdnzcurqFDdtdwAAAALlBmoBJ4Q8mUwIV//44QAAA8nl7AFBkF12/fGxQTYgFObkPMHilyUdskYl49IofobNzN11BaD3iZfbssYAa1TpYzl6bnWLRMdQHrQRWQHn+MPOfYV7VxHUyil8kBEc+uMb/+EOTBwZ/EhAjwtRVGoHxHswoEjpEpDqMC0oUxjAHHRKly08MbhKBbRDk6IAtpEkHuXX5JTiOoKo6dmKjkCuGkHsyjgS/pitwErY3+kMcZfA8TeNQjFQxBwAAAStBmqFJ4Q8mUwIV//44QAACGhxQFeoVtrODJEU2OdXxfUo97WTsN1/YSDBRsTG2rqixk8MpfA92GpSX2He72q0wAWmWp1/tC/8r4BStucQea6Utsn5IbYO6Ix7XV9pI6hvxwQhm4sXETeCHHP3+Z1LbpfB4foPXrF17QS2gy+wlmBLi8xMEN6BBaFSY0uRDBhkc67x7993vq8SOXsPAF4VAK6UGQiSg0P9JTJH4ezeynft2BdCkNaDijlUwbp+6UQhhv0tTs6bZPEoeq/O3q4MlcoRhljXe7ycPgXwre/iHFyfpRvDmL6KhyJJHhvW/xIyIDVkg0soQYTAXSV2r7i1CRs/YJo+XhBEIfHl8YGEcAZB3r18XfJMPb0wsiTSIK45CDkzsFaUXX1rWgAAAANhBmsJJ4Q8mUwIV//44QAACGeaLkt6AWs7T62sJvuOYN/JgitGWtzaVFrapv9iKx+l1S7E+DpM6kZ7oCZAIind06WdaxTCZE+Lmh/RRuqm/5GV51yb+1inrKlVqhZkXWtHIftHTfLoxHNHa/uVeMMYbwJowVG9SE9KvWyEBiHaHtWhc8zeCPVJeUrt8uNhbQufCvVOTd4b9G0OHcFuoQfGa80U54o4BrQUDAfYg/5rsUso2ZZe9baNhqTibgPOR85ih1Yb42/u1DY6UKTqw4v60SFCZuAttAqcAAAD8QZrjSeEPJlMCFf/+OEAAAhpvx/ez2AKDCdgDWVVFx60hS6BzeKLqmMUAnAhaFpy1owBMTKBAs4tkaOXu2i9GjryDvvCWAswkn03qsdG0KWkbLoAZypGqoFAPWCZVQbAQFJwJ+O8H6iorqromI2n+Jwb8dUJh+YLyW7aDW1mY0J9dEjLcTLUNnZ+aDCMkZijc4LiQpOqkTUsh4Z7MYYj63xojVvB3gNJbCH2htpu3DHIjEM8Jc46Suhck+R+XVTjdmPj0t6E9q54Rir54pEekK7wqcpN8hR5y0Ganu+Ft165mP7S4deBmIZrY6KHsX9E29fjrwT90N0SgSkrAAAABO0GbBEnhDyZTAhX//jhAAAIaIXgBaxP/bMh5ZP0a8MW2ja5zMlrz7u8SU2US0krM2q4SZsvWrVkY6llbC1WZIWTrL1VmeBGI9tYbp3v50a6P802wyy5CIhib/mUfLqdisSQM3Wf9taf7Q4IkONdy2TP+6LjNKzaapJ/txcn+8GEI2avvGa0A/W7bwbzR3IXeWS0QVj/lvM5nMHpXl8tqXMyV8ktq54ZC9mSJr7QAbZu3Bogi3J68N7PIqdSDSx1a86vu5154CeTP7JD6RjHrq524hFOfWKfsHLz3v/sTDo1pGmf30mIwNd+yh8Xj3GIWOjg6f8hPODsBjUpAEy0LD68PyuTCtgg4dh93ZK2H7/Fg5gDYAe1BwWBCOLm8WSKQxP7++Ku+A4Dx+SW/gbK70JVgtRCu8z7DH6ZDwQAAAKpBmyVJ4Q8mUwIV//44QAAEe6JtCQy4MW2QALA45+f2DuKErzARxmM7ADOzd2LmaFK5SHzNZYDIFFq3lEQtEaKaSsItOG/b68zSTo5poYhRWDCAGm0AQLhlccRpaA3QUA4ozGckYdJu1EcS/GM438wfGo+FIGppaE/F4gc5IiYB65NMBmk7ju9Nyhq4gmevIqzhVNLA/YgdDVCXYblwK3sJt8SQ5L9MfEAdMQAAAcRBm0dJ4Q8mUwURPCv//jhAAAS2hgZuRdgAn1EO3qiNwrZoDn4Bw9mw9i4NX0SB7Y3qq+muXtDwzXEyO7fkBZaqg6CEs9YCLZ6JBMXVLla1wvGRX8aU9NveLFPC9VRK5dp7zgyp4ggBIU8LkcjDQmGMia9jy1ikr8KN0GGgjGzSlMtbM4YrLjD8LX7gUCnXfYy3yEMYX37vjDidsO91wiojCcCm0t1El83N7HlRCUCwqwgA8+81SiMVWhVrexWqOcilTLTpK+uchdnk0Wy9C8MWbQsGaZqumutkKQ0jmbq0w/GTyE4FoAvs8ZFYswNm2cCSEKIX+mxdiBZ3Gy6TGXhaWqWot9UONwGi1kNlaiT3/XMRagm4ZD4DNlWm7UK65lhE4HILj0x9l4VhafVs2q0rsBlAR/tpTWqRdMVbjq4rHwTh7Eanto1yCtY0HRMF7WnyGfWhy5Ns30bWnpGTJAPySnWQAj1Q0SOoiWWxLQ+7C1njs8446Fl7xJ0JoyoBiQ0aSEkcKox6wyGyB/VQvZ4BKwa33wu1bWIMEWenqMdlwo4ebqPeRact6LYfrrDQbPo+BLmIuJGywykwU/oWAGtU3UZSQQAAAEMBn2ZqR/8AdsIvoaGvhxsIwwAAAwAAAwGsyqZYF7+3t11whYxIBOzpbbk+tLhBPtrqjI5gDiL7cOCI5yuO/BvIAAU1AAAAxkGbaEnhDyZTAhX//jhAAAS04BL+iakf7QZGyppmnnBcv0AOdkLJEtoI13XvozeHnBXvBkmHbnmd7Lpwu6iDfgtZFf/GmoIgtCk6hAFtgMKpeksvNol5l+//ZawXxOQe767VcPMnrTcQTMKbSZiEio6qPsw354IhYMINnTyP9AIr1yChpirfKV+bRbfGEZ70F/7+GGpFFljlto4zDq357jjiF7Unq6IP5W3DyT8J1v8gJ7/vXqEq3gc0f3pwgXEMtcZXN42RdwAAAQlBm4lJ4Q8mUwIV//44QAAEksSYvNxWHS1shioUwPzUBMzjtLalQtMo0IF/e5q1aYwTGhyIt84ZKwz9tOcLLnfkZ9JZyY3Urbr9sBrSo6fdLG+S4A7tfK2rpHjBw95k0aUh5+jP2rdE9cBbTPe0VRHCZL06SKp+FF4DD1ZIHK5Du4S/MfTTCyXbP41tjixPw40U5DhK8KFLgJvGGFYdGog9yj3MNSw/hwUB7aLqduqlZWQQqcv8aV4s1pvACDf0sHfZdXKFo8ritl70XyIz4N1GNpUVciwRrBjd8qLJpySo9XZpBrv0M7InmXtpnKJwZFolnT6yYSALcf47xWe0pafw/q6Rl5gqJ86YAAABbEGbq0nhDyZTBRE8K//+OEAACnxszJ7PYAoH+RrgI0WvwpR4Xolp+Kc7I/2Q3qTTuAq+plc7vOzrSbfGAaJM3q/I/dQrfeiUFKRcA5tg9K2/8SETaeHUF9cxFKBSRdSkgaVmm8NxSLfraHXibUtnCyReEGJOYMYszZq+7QzD2JaxWuTU62ZWYf8tog3RawDqqFSC5oJzr/cV3W2itl7fkVOgjTYfT8iH5b9Tsow+0tJrvgdMmxw7+OMbLFBqWt4DFCpPemvcGV6Bduk0VHm9eGM9CKF8DwtFZvQA0XwtQ0Si2zV0cmNPHX0GKOdWFoUxiSnlajKikzEf1ZIFD67jVIrKnwypXSse5C8uuMpKw8zDQhqQqIjMAWwJ+x256zAFnDOEd2H8F8LlYNZn2uGQSz4NnG4AtxSBAlxqFqz7bkl2nFXTN8BkA/iACjhXyw0iY6O4k0scHZaIaqIkEJawOGu5WBYQpBFnP39grYEAAABCAZ/Kakf/AHbCL6Ghr4cbCMMAAAMAAAMBrMqmWDR/b267oI2E0aP49QrrXoDWkUjbMqJ6TNM1SsvgnuCXOQuYAG9AAAABH0GbzEnhDyZTAhX//jhAAAp8XBhWeFnAia/75z66AG684TJVqQGbp7HB/mFnU3i9+s8HNael6rT8Bre7VMgrgLukODI/ZI7/phMre9WPh1pz7HzApJ+XiAbWN/W+xuTujpv6FvpZw9m7RW37wAqfOZcAGUehBbViaonwA8SZ+OQoxIG5+TwTY5R30mZsdBmzvpRM0Wna2pZRnbn2xChDHlen+Aa1VXzZxS63F1eLAyDTjjyxgfQ/z1juFUazUqhqlE1Y9vx2q4VSITpsfefI/I3N7p8oSx4rA86W9KObwlzQUEQxk0eHD2mGSSN3wxUdiEedoTS7fGpX+n5pD4YOKViaG+I3pNDJPczLP0X9lZOBKwTk5m3llFM6771XTR1wAAAAzkGb7UnhDyZTAhX//jhAAAp9lAgGrDPwf3hi23BCiwrWB62jaxIfmtQc0vXKeyCD/Kcr4Rus4M3c6RCsEkq1qmzAvawJywnqRHfU7NmKaa3p457B163JSX4JHXdb2FPfWJngemnMoPefdZ+i6ET2o2a3OItOZXlGyOyDNEUoVXvpbRpBAChjFaAXU5xuZl3kqmNDvoMcpdBVGgyP6D3GvTRHPAlG3SUOzT1zKnhPx4/q5r0PgihpXEMuhr+ZqSKCGSlm1tWbSMGQh56oGW5TAAABi0GaD0nhDyZTBRE8K//+OEAAFzjQ5l2mAOgbO503wHTbTwOJbKcZmBvzAtfeNFZg/kqz6jX3p/B4Gbo85kI3rIWjiyRuyKk4A0RUR42qGty66ytvic1O/gvFnh2LU7T/0zRDKwTu4r79iWme5agL7/e/AntrWllP9GwpXZVRJFvXOb/l5fCFGQYM16nBSXx9RdY+c3Z+k1jaObLHX1Z4HxJEMZKN7k1N+FCIjaNmfEr99x8HUUlqE55jODzOtYTDXo2C04+BFACndpbMxIBkRkWKLy2UbvGowIDx/eqJtLKVKkU9syIcZjGi1oXJUXgJv8Xsu7YTSqEEAjE5iKg9rHyyZECHTr2Fd7ejJn1ImOAj572zHoyj4/Z3BAfbkgm+YHvqLgSx5X+B91StnuJy8TMbdxm9jYnUo1etKFWNLij/g3VKPfFXeb6NTrsCW9chL3/BLUWjjm56UGfbsmimt8L6L8txYbe7mjEAGZFy2Ot6vOEBsTpnLqAknjLk6OfSTpnBGESyiz605k3BAAAAUgGeLmpH/wB2wi+hoa+HGwjDAAADAAADAazKplh0BQlANG+3zoHxqeYBJwipO2ddZ+gGHvFnXrOwhWcriXI0T/Luds4CCwxEnya/oJ5EAObExYEAAADLQZowSeEPJlMCFf/+OEAAF1VgyX9EWltN9vAFFRut6bR/0suslrSmsAhTDScAT7oMoA/yLIUiQTLNcF8YGPL7O7swyn+xjRbxLMjj04I2kCG8U/a3MF71jb3n3KzRKW9LKELbnUbd3D0uJ7mEbZCY3ZjPOB0vgumgS8K8cbBs2pkK+Xpg1iY/Gnp0P+o9VY/I0RXdU/W4m0lpRk51IzZq2MtRf/7t2esU4xxpujTY7AzKSR30AZLZifXPam4LTFDF4w8IXiG/rzw0AV8AAADDQZpRSeEPJlMCFf/+OEAAFzswAAJGJdL4k+f52gltbZ11y58laQMjV009CuBwuXA8Szchv8iUxDIUYJlLSp2vMv280hJnnCfGCsHoqQ6raDT+gg+J6f+lwcTDmmUR0upb9Z3CWMG2jrjtU/iZeJPUorpnCD7beTMLF5cv0k72lLptHc6wwJCAy24DPpllaH2qpruOLO0CWIwiGWeZisjoBGtKyYprvjjBsHNyXp9/CcsvWB1WilBUJJ7Dtw69JBeHl3jAAAABT0Gac0nhDyZTBRE8K//+OEAAM2ex/ez2AKBDjaNdtehX7SlGHfzll46ZEc5eEQjZVAsl7gMZmSqTUFNpiRmJ6pxLKdlwgdyZZ0VTwqy2i6xArZqn5Ypp7csS9SOO3Fgolr46PYZcVGCDZ+yUJM1EDLTEHO/4pf07XUgGRRHvXAmjO38pYo35hbBeDplBZ+VZRQrVOGpmzvaiyfOlaP+N1Lifavft2GVmPxVRaFiA56TC5MFGM+CaD4PLF5TmWasPBECxeY0taZB49raWazV4bijjQIlmHvHPn6G1oB92xV/HcTEeRWSzY39SH74+7X91kd2q8ChyUi3Q6lazjFoTsAI3AD9GmR5qFYuUD5FQO08D4Xktlg/KEwL4c9FzVFjvHpZu70oAGndmfRBkNz1J7u022urLytPnUnWNxUuvZjmqcs4qg70QvCL7/PCUQBgRAAAANwGekmpH/wB2wi+hoa+HGwjDAAADAAADAazKplj9Prhj8I+g2pCeRnJK0XqAq4uSWhgAA18ATsAAAADXQZqVSeEPJlMFPCv//jhAADNnkZuFowiMF0ADixZxJr2V9mVq/A+jCJxPr+Z1g3f0iaTD0GmabZo7lmhhpwF5WuY4K5D78JyVmG77DMAbRtL9HwbaY7BFzx2rKqsGCucqTBcYvmGv09nfyoC8mKv0qAx+P1NoBp8EdvB4yzjlx6BWuKAqXcrNEUZLghWw9fmwHUtZEmNi8gAhRdCZJz3SQAjQ3tza87SqalSgzQ5Yn2eCYaupc48jtGE+vDLMmAcKvkbK0QhnaP6r6FrEpEgiXozh86YHZ8AAAAA3AZ60akf/AHbCL6Ghr4cbCMMAAAMAAAMBrMqmWPj7x+9ehReoTVbCwvvDTkJexTWTH0wlgAAQ8QAAAV1BmrZJ4Q8mUwIV//44QABw++oJ5mPvoimT9ey8Ifm0KnN54pPsTxyvwxCV5Vi2ZPEzKXty44a/WDJpnGZMNp+sP0vHd60gV7a8OzoKmbJ4xlnnZSS+/+gYrhVbVH6ULh46UsWYIlSq5iVBmA7NhHw9fEq1tMEkwW08lcZqBFMuxfhIHaddDgRi4xsm5KWw3DqROpk47vx0duFMSCGJLL1CyHNluiycimxS35tv69OjNcjfrEbXuqLpVI2NE44yJhUSbpfT6txBcJjz3+XgxM6VobAw27r55UrvsQKucsXMrUqVAsos9WDgXu4Ld0xdZqw4/ybQNOGLUtoC4Hc1UBwTcUfp/5BDEUMyGu7w+E/O5MFXaK5OvgAZd227gTVfyNBX8XreXYteTjnMmHI2mfOK6O7tpetzPfWMqWJ95fXxbJefVR2k1If2keaEUxtZuVYCWmKoIqhdm/whagTcAAAAtkGa2EnhDyZTBRE8K//+OEAAcQzNsN9aYAp6iGatYLP3oG0DMzsYxusOsHull0cAKgqfCroePI08T2p1XSqWQ37uWftA9Yc8KCmglXYXnPXzwsmpgea38FgrztmYe5u4LALQMQpH/nK9RRwpuIrv8fEnoFrg3jy3nYJQPXbhUl7oeipXWzoG2PEaxOJbdlG8/pcHLprUkYyA5j6qxaX6Gk/ycKpz1VQ1MCM02sB7gzi5q0dyIhIfAAAAPAGe92pH/wB2wi+hoa+HGwjDAAADAAADAazKplo08e/rVnmej2eVNtOf5n9c3oMno5zGQr7ZuDcwEE81JQAAAJFBmvlJ4Q8mUwIV//44QABw/QxgDmC6T5WpbCqC5fE0IJqjxSm320pkbf3wACSJMu7xDJcNL4tDVL5Sy9JchqxFs44wA1DJFERAOKh0U3/FG1G+xux2A4JpwXm2FH8mmoS+uHSPXRP/Bbjo9hdLw0Ap9gZX8nB32Q04vsmoKI5JfduEVrUrlpocGPtquU8cr3uAAAAAy0GbG0nhDyZTBRE8J//98QACab+8hKTt1536ypzazoD5dK+dJRSSLEuW1qusi7sAwT7HitBvgRtXtlA+bZ4Z1SlqPsByEjbqKt14eovSsZBzC0pvfpEs9wfk3ZtsCpRIyVBeHMytrAFdqiIDJzMIh6xnVx7COtsY7dTvP+YuypwJ7rQLzwsW6nh1G9hWLBddOxSuCG1EfVT0jZxzx7M0ObNRkUvX6oWvxVUvS2xwIL/F657qlKjCTcLh2GgrR6Ez4kHVK4CAjE3duDKBAAAAMwGfOmpH/wB2wi+hoa+HGwjDAAADAAADAazKpmdlJtR3iVrCUcA49hXO0REymbgHUAAOOAAAAG1BmzxJ4Q8mUwIT//3xAAJqW+C/RM2EPe+AFHOKMnC9VSCukhxAAUJdfw/fzUl59B7WctsnIN6m5kRUpYwC5Gx4VZ8DfEyjpx5Z2PTI+tehFi8vV6YqSg3kOAi/zf8M2l3L9yehC8NMsXo2EAETAAAAMUGbXUnhDyZTAhP//fEAAlm8MPJeIea8AHBCLZTV8v5ZCec/vzicxEhY1HADZcAAUEEAAABEQZt+SeEPJlMCE//98QAFY7CZnc4VoAI9tFNEUsw9UeMr0QtwSsJIuM3Fz+H8euvkcZCTu18J2l8/3T+pClmPjOgAA/wAAAA1QZufSeEPJlMCE//98QAFhtyCTvhvAHLQpicmawSHQ4yHDmW9r7lahNQUjc/LQ4iMaAAAG9AAAAAvQZugSeEPJlMCE//98QAFY3Gh3Dl84nUUq/iAFnYT98R1A29PWVcfaEUAAAMAsoEAAAAiQZvBSeEPJlMCE//98QAFY3K17yTII2PtaQlMaKQAAAMDPgAAACNBm+JJ4Q8mUwIR//3hAAgmlDhrw9lm1TqmhvAaKZIAAAMChwAAAClBmgNJ4Q8mUwI///yEAEk5NcAD+YR7W68yyjzb3mXPzsQbBrAAAAMDPgAABlRtb292AAAAbG12aGQAAAAAAAAAAAAAAAAAAAPoAAAH0AABAAABAAAAAAAAAAAAAAAAAQAAAAAAAAAAAAAAAAAAAAEAAAAAAAAAAAAAAAAAAEAAAAAAAAAAAAAAAAAAAAAAAAAAAAAAAAAAAAAAAAACAAAFfnRyYWsAAABcdGtoZAAAAAMAAAAAAAAAAAAAAAEAAAAAAAAH0AAAAAAAAAAAAAAAAAAAAAAAAQAAAAAAAAAAAAAAAAAAAAEAAAAAAAAAAAAAAAAAAEAAAAAB9AAAAfQAAAAAACRlZHRzAAAAHGVsc3QAAAAAAAAAAQAAB9AAAAIAAAEAAAAABPZtZGlhAAAAIG1kaGQAAAAAAAAAAAAAAAAAADIAAABkAFXEAAAAAAAtaGRscgAAAAAAAAAAdmlkZQAAAAAAAAAAAAAAAFZpZGVvSGFuZGxlcgAAAAShbWluZgAAABR2bWhkAAAAAQAAAAAAAAAAAAAAJGRpbmYAAAAcZHJlZgAAAAAAAAABAAAADHVybCAAAAABAAAEYXN0YmwAAACZc3RzZAAAAAAAAAABAAAAiWF2YzEAAAAAAAAAAQAAAAAAAAAAAAAAAAAAAAAB9AH0AEgAAABIAAAAAAAAAAEAAAAAAAAAAAAAAAAAAAAAAAAAAAAAAAAAAAAAAAAAAAAY//8AAAAzYXZjQwFkAB//4QAaZ2QAH6zZQIAQeeeEAAADAAQAAAMBkDxgxlgBAAZo6+PLIsAAAAAYc3R0cwAAAAAAAAABAAAAZAAAAQAAAAAUc3RzcwAAAAAAAAABAAAAAQAAAcBjdHRzAAAAAAAAADYAAAAQAAACAAAAAAEAAAMAAAAAAQAAAQAAAAABAAAEAAAAAAIAAAEAAAAABAAAAgAAAAABAAADAAAAAAEAAAEAAAAAAQAAAgAAAAABAAADAAAAAAEAAAEAAAAAAwAAAgAAAAABAAADAAAAAAEAAAEAAAAAAQAAAgAAAAABAAADAAAAAAEAAAEAAAAAAwAAAgAAAAABAAADAAAAAAEAAAEAAAAAAQAAAwAAAAABAAABAAAAAAEAAAMAAAAAAQAAAQAAAAACAAACAAAAAAEAAAMAAAAAAQAAAQAAAAADAAACAAAAAAEAAAMAAAAAAQAAAQAAAAACAAACAAAAAAEAAAMAAAAAAQAAAQAAAAAKAAACAAAAAAEAAAMAAAAAAQAAAQAAAAACAAACAAAAAAEAAAMAAAAAAQAAAQAAAAACAAACAAAAAAEAAAMAAAAAAQAAAQAAAAACAAACAAAAAAEAAAMAAAAAAQAAAQAAAAABAAADAAAAAAEAAAEAAAAAAQAAAgAAAAABAAADAAAAAAEAAAEAAAAAAQAAAgAAAAABAAADAAAAAAEAAAEAAAAACAAAAgAAAAAcc3RzYwAAAAAAAAABAAAAAQAAAGQAAAABAAABpHN0c3oAAAAAAAAAAAAAAGQAAAhhAAAA0wAAAKsAAADNAAAApQAAAJwAAAB1AAAApQAAAJ0AAACZAAAAlAAAAKYAAACYAAAA6gAAAJUAAAC5AAABCQAAAEIAAAFmAAAAUgAAACUAAAC0AAAAvwAAAMEAAADZAAABLgAAAEQAAACFAAABXwAAAEIAAADwAAAAlwAAAMEAAAHjAAAARwAAANUAAAGRAAAAQAAAAQEAAADbAAABLwAAAcoAAABJAAABoQAAAEMAAAGlAAAARwAAAXMAAAEEAAABwQAAAFIAAAENAAABaAAAARIAAAFZAAAAPgAAAN0AAAEfAAABVAAAAFIAAADRAAAAuQAAASsAAAEIAAAAvQAAAS8AAADcAAABAAAAAT8AAACuAAAByAAAAEcAAADKAAABDQAAAXAAAABGAAABIwAAANIAAAGPAAAAVgAAAM8AAADHAAABUwAAADsAAADbAAAAOwAAAWEAAAC6AAAAQAAAAJUAAADPAAAANwAAAHEAAAA1AAAASAAAADkAAAAzAAAAJgAAACcAAAAtAAAAFHN0Y28AAAAAAAAAAQAAADAAAABidWR0YQAAAFptZXRhAAAAAAAAACFoZGxyAAAAAAAAAABtZGlyYXBwbAAAAAAAAAAAAAAAAC1pbHN0AAAAJal0b28AAAAdZGF0YQAAAAEAAAAATGF2ZjU4LjEyLjEwMA==\">"
      ]
     },
     "metadata": {},
     "output_type": "display_data"
    }
   ],
   "source": [
    "\n",
    "include(\"AnimatedPyplot.jl\")\n",
    "\n",
    "test_animation()"
   ]
  },
  {
   "cell_type": "code",
   "execution_count": null,
   "metadata": {},
   "outputs": [],
   "source": [
    "ff = () -> 42\n",
    "ff()"
   ]
  },
  {
   "cell_type": "code",
   "execution_count": 12,
   "metadata": {},
   "outputs": [
    {
     "name": "stdout",
     "output_type": "stream",
     "text": [
      "┌ Debug: debug\n",
      "└ @ Main In[12]:9\n",
      "┌ Warning: warn\n",
      "└ @ Main In[12]:11\n",
      "true"
     ]
    }
   ],
   "source": [
    "using Logging\n",
    "using LoggingExtras\n",
    "\n",
    "function ignore_sampling_filter(log_args)\n",
    "    !occursin(\"sampling steps\",log_args.message)\n",
    "end\n",
    "logger = ActiveFilteredLogger(ignore_sampling_filter, global_logger())\n",
    "old_logger = global_logger(logger)\n",
    "@debug \"debug\"\n",
    "@info \"info sampling steps\"\n",
    "@warn \"warn\"\n",
    "\n",
    "print(occursin(\"sd\",\"asdt\"))"
   ]
  },
  {
   "cell_type": "code",
   "execution_count": 13,
   "metadata": {},
   "outputs": [
    {
     "ename": "ArgumentError",
     "evalue": "ArgumentError: isdefined: too few arguments (expected 2)",
     "output_type": "error",
     "traceback": [
      "ArgumentError: isdefined: too few arguments (expected 2)",
      "",
      "Stacktrace:",
      " [1] top-level scope at In[13]:1"
     ]
    }
   ],
   "source": [
    "isdefined(:logger)"
   ]
  },
  {
   "cell_type": "code",
   "execution_count": 15,
   "metadata": {},
   "outputs": [
    {
     "data": {
      "text/plain": [
       "false"
      ]
     },
     "execution_count": 15,
     "metadata": {},
     "output_type": "execute_result"
    }
   ],
   "source": [
    "@isdefined loggerxx"
   ]
  },
  {
   "cell_type": "code",
   "execution_count": 21,
   "metadata": {},
   "outputs": [
    {
     "data": {
      "text/plain": [
       "true"
      ]
     },
     "execution_count": 21,
     "metadata": {},
     "output_type": "execute_result"
    }
   ],
   "source": [
    "true || false"
   ]
  },
  {
   "cell_type": "code",
   "execution_count": 22,
   "metadata": {},
   "outputs": [
    {
     "data": {
      "text/plain": [
       "(1.0:10.0:-9.0,)"
      ]
     },
     "execution_count": 22,
     "metadata": {},
     "output_type": "execute_result"
    }
   ],
   "source": [
    "tuple(1:10:.5)"
   ]
  },
  {
   "cell_type": "code",
   "execution_count": 25,
   "metadata": {},
   "outputs": [
    {
     "data": {
      "text/plain": [
       "9-element Array{Float64,1}:\n",
       " 1.0\n",
       " 1.5\n",
       " 2.0\n",
       " 2.5\n",
       " 3.0\n",
       " 3.5\n",
       " 4.0\n",
       " 4.5\n",
       " 5.0"
      ]
     },
     "execution_count": 25,
     "metadata": {},
     "output_type": "execute_result"
    }
   ],
   "source": [
    "agrid = collect(1:.5:5)"
   ]
  },
  {
   "cell_type": "code",
   "execution_count": 28,
   "metadata": {},
   "outputs": [
    {
     "data": {
      "text/plain": [
       "9-element Array{Float64,1}:\n",
       " 1.0\n",
       " 1.224744871391589\n",
       " 1.4142135623730951\n",
       " 1.5811388300841898\n",
       " 1.7320508075688772\n",
       " 1.8708286933869707\n",
       " 2.0\n",
       " 2.1213203435596424\n",
       " 2.23606797749979"
      ]
     },
     "execution_count": 28,
     "metadata": {},
     "output_type": "execute_result"
    }
   ],
   "source": [
    "sqrt.(agrid)"
   ]
  },
  {
   "cell_type": "code",
   "execution_count": 29,
   "metadata": {},
   "outputs": [
    {
     "data": {
      "text/plain": [
       "5.0"
      ]
     },
     "execution_count": 29,
     "metadata": {},
     "output_type": "execute_result"
    }
   ],
   "source": [
    "agrid[end]"
   ]
  },
  {
   "cell_type": "code",
   "execution_count": 32,
   "metadata": {},
   "outputs": [
    {
     "ename": "UndefVarError",
     "evalue": "UndefVarError: choicemap not defined",
     "output_type": "error",
     "traceback": [
      "UndefVarError: choicemap not defined",
      "",
      "Stacktrace:",
      " [1] top-level scope at In[32]:1"
     ]
    }
   ],
   "source": [
    "c = choicemap()"
   ]
  },
  {
   "cell_type": "code",
   "execution_count": 34,
   "metadata": {},
   "outputs": [
    {
     "data": {
      "text/plain": [
       "1.6094379124341003"
      ]
     },
     "execution_count": 34,
     "metadata": {},
     "output_type": "execute_result"
    }
   ],
   "source": [
    "log(5)"
   ]
  },
  {
   "cell_type": "code",
   "execution_count": 43,
   "metadata": {},
   "outputs": [
    {
     "name": "stdout",
     "output_type": "stream",
     "text": [
      "false\n"
     ]
    }
   ],
   "source": [
    "println(1.5 in 1:5)"
   ]
  },
  {
   "cell_type": "code",
   "execution_count": 45,
   "metadata": {},
   "outputs": [
    {
     "data": {
      "text/plain": [
       "3-element Array{Int64,1}:\n",
       " 1\n",
       " 1\n",
       " 1"
      ]
     },
     "execution_count": 45,
     "metadata": {},
     "output_type": "execute_result"
    }
   ],
   "source": [
    "ones(Int64,3)"
   ]
  },
  {
   "cell_type": "code",
   "execution_count": null,
   "metadata": {},
   "outputs": [],
   "source": []
  }
 ],
 "metadata": {
  "jupytext": {
   "cell_metadata_filter": "-all",
   "encoding": "# -*- coding: utf-8 -*-",
   "formats": "jl:light,ipynb",
   "notebook_metadata_filter": "-all"
  },
  "kernelspec": {
   "display_name": "Julia 1.4.0",
   "language": "julia",
   "name": "julia-1.4"
  },
  "language_info": {
   "file_extension": ".jl",
   "mimetype": "application/julia",
   "name": "julia",
   "version": "1.4.1"
  }
 },
 "nbformat": 4,
 "nbformat_minor": 4
}
